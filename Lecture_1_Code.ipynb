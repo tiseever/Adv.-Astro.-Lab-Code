{
 "cells": [
  {
   "cell_type": "code",
   "execution_count": 140,
   "metadata": {},
   "outputs": [],
   "source": [
    "from __future__ import print_function, division, absolute_import, unicode_literals\n",
    "import numpy as np\n",
    "import matplotlib.pyplot as plt"
   ]
  },
  {
   "cell_type": "code",
   "execution_count": 141,
   "metadata": {
    "scrolled": true
   },
   "outputs": [
    {
     "name": "stdout",
     "output_type": "stream",
     "text": [
      "Declaring Variables\n",
      "\n",
      "Integer: 2\n",
      "Twice the integer: 4\n",
      "Integer as float: 2.0, Machine parameters for float64\n",
      "---------------------------------------------------------------\n",
      "precision =  15   resolution = 1.0000000000000001e-15\n",
      "machep =    -52   eps =        2.2204460492503131e-16\n",
      "negep =     -53   epsneg =     1.1102230246251565e-16\n",
      "minexp =  -1022   tiny =       2.2250738585072014e-308\n",
      "maxexp =   1024   max =        1.7976931348623157e+308\n",
      "nexp =       11   min =        -max\n",
      "---------------------------------------------------------------\n",
      "\n",
      "Sine of the integer: 0.9092974268256817\n"
     ]
    }
   ],
   "source": [
    "print('Declaring Variables')\n",
    "print('')\n",
    "i = 2\n",
    "print('Integer:',i)\n",
    "i2 = 2*i\n",
    "print('Twice the integer:',i2)\n",
    "floati = float(i)\n",
    "print('Integer as float: {0},'.format(floati),np.finfo(float(i)))\n",
    "sini = np.sin(i)\n",
    "print('Sine of the integer:',sini)"
   ]
  },
  {
   "cell_type": "code",
   "execution_count": 142,
   "metadata": {},
   "outputs": [
    {
     "name": "stdout",
     "output_type": "stream",
     "text": [
      "Playing with Strings\n",
      "\n",
      "Letter e: e\n",
      "Letter e plus letter z: ez\n",
      "Index of letter e: 0\n",
      "Test if string2 = big: False\n",
      "string2 with \"e\" replaced with \"i\": iz\n"
     ]
    }
   ],
   "source": [
    "print('Playing with Strings')\n",
    "print('')\n",
    "string = 'e'\n",
    "print('Letter e:',string)\n",
    "string2 = string + 'z'\n",
    "print('Letter e plus letter z:',string2)\n",
    "epos = string2.find('e')\n",
    "print('Index of letter e:',epos)\n",
    "ebig = (string2 == 'big')\n",
    "print('Test if string2 = big:',ebig)\n",
    "string3 = string2.replace('e','i')\n",
    "print('string2 with \"e\" replaced with \"i\":',string3)"
   ]
  },
  {
   "cell_type": "code",
   "execution_count": 143,
   "metadata": {},
   "outputs": [
    {
     "name": "stdout",
     "output_type": "stream",
     "text": [
      "Playing with 1D Arrays\n",
      "\n",
      "Array of 100 1s plus 10: [11. 11. 11. 11. 11. 11. 11. 11. 11. 11. 11. 11. 11. 11. 11. 11. 11. 11.\n",
      " 11. 11. 11. 11. 11. 11. 11. 11. 11. 11. 11. 11. 11. 11. 11. 11. 11. 11.\n",
      " 11. 11. 11. 11. 11. 11. 11. 11. 11. 11. 11. 11. 11. 11. 11. 11. 11. 11.\n",
      " 11. 11. 11. 11. 11. 11. 11. 11. 11. 11. 11. 11. 11. 11. 11. 11. 11. 11.\n",
      " 11. 11. 11. 11. 11. 11. 11. 11. 11. 11. 11. 11. 11. 11. 11. 11. 11. 11.\n",
      " 11. 11. 11. 11. 11. 11. 11. 11. 11. 11.]\n",
      "Array of 100 50s: [50. 50. 50. 50. 50. 50. 50. 50. 50. 50. 50. 50. 50. 50. 50. 50. 50. 50.\n",
      " 50. 50. 50. 50. 50. 50. 50. 50. 50. 50. 50. 50. 50. 50. 50. 50. 50. 50.\n",
      " 50. 50. 50. 50. 50. 50. 50. 50. 50. 50. 50. 50. 50. 50. 50. 50. 50. 50.\n",
      " 50. 50. 50. 50. 50. 50. 50. 50. 50. 50. 50. 50. 50. 50. 50. 50. 50. 50.\n",
      " 50. 50. 50. 50. 50. 50. 50. 50. 50. 50. 50. 50. 50. 50. 50. 50. 50. 50.\n",
      " 50. 50. 50. 50. 50. 50. 50. 50. 50. 50.]\n",
      "Sum of the first two arrays: [161. 161. 161. 161. 161. 161. 161. 161. 161. 161. 161. 161. 161. 161.\n",
      " 161. 161. 161. 161. 161. 161. 161. 161. 161. 161. 161. 161. 161. 161.\n",
      " 161. 161. 161. 161. 161. 161. 161. 161. 161. 161. 161. 161. 161. 161.\n",
      " 161. 161. 161. 161. 161. 161. 161. 161.  61.  61.  61.  61.  61.  61.\n",
      "  61.  61.  61.  61.  61.  61.  61.  61.  61.  61.  61.  61.  61.  61.\n",
      "  61.  61.  61.  61.  61.  61.  61.  61.  61.  61.  61.  61.  61.  61.\n",
      "  61.  61.  61.  61.  61.  61.  61.  61.  61.  61.  61.  61.  61.  61.\n",
      "  61.  61.]\n",
      "Product of the first two arrays: [5550. 5550. 5550. 5550. 5550. 5550. 5550. 5550. 5550. 5550. 5550. 5550.\n",
      " 5550. 5550. 5550. 5550. 5550. 5550. 5550. 5550. 5550. 5550. 5550. 5550.\n",
      " 5550. 5550. 5550. 5550. 5550. 5550. 5550. 5550. 5550. 5550. 5550. 5550.\n",
      " 5550. 5550. 5550. 5550. 5550. 5550. 5550. 5550. 5550. 5550. 5550. 5550.\n",
      " 5550. 5550.  550.  550.  550.  550.  550.  550.  550.  550.  550.  550.\n",
      "  550.  550.  550.  550.  550.  550.  550.  550.  550.  550.  550.  550.\n",
      "  550.  550.  550.  550.  550.  550.  550.  550.  550.  550.  550.  550.\n",
      "  550.  550.  550.  550.  550.  550.  550.  550.  550.  550.  550.  550.\n",
      "  550.  550.  550.  550.]\n",
      "Array of 100 values of 0,1,2,...: [ 0  1  2  3  4  5  6  7  8  9 10 11 12 13 14 15 16 17 18 19 20 21 22 23\n",
      " 24 25 26 27 28 29 30 31 32 33 34 35 36 37 38 39 40 41 42 43 44 45 46 47\n",
      " 48 49 50 51 52 53 54 55 56 57 58 59 60 61 62 63 64 65 66 67 68 69 70 71\n",
      " 72 73 74 75 76 77 78 79 80 81 82 83 84 85 86 87 88 89 90 91 92 93 94 95\n",
      " 96 97 98 99]\n",
      "Array of 100 values with all odd elements equal to -1:\n",
      "farray5[0] = 0\n",
      "farray5[1] = -1\n",
      "farray5[2] = 2\n",
      "farray5[3] = -1\n",
      "farray5[4] = 4\n",
      "farray5[5] = -1\n",
      "farray5[6] = 6\n",
      "farray5[7] = -1\n",
      "farray5[8] = 8\n",
      "farray5[9] = -1\n",
      "farray5[10] = 10\n",
      "farray5[11] = -1\n",
      "farray5[12] = 12\n",
      "farray5[13] = -1\n",
      "farray5[14] = 14\n",
      "farray5[15] = -1\n",
      "farray5[16] = 16\n",
      "farray5[17] = -1\n",
      "farray5[18] = 18\n",
      "farray5[19] = -1\n",
      "farray5[20] = 20\n",
      "farray5[21] = -1\n",
      "farray5[22] = 22\n",
      "farray5[23] = -1\n",
      "farray5[24] = 24\n",
      "farray5[25] = -1\n",
      "farray5[26] = 26\n",
      "farray5[27] = -1\n",
      "farray5[28] = 28\n",
      "farray5[29] = -1\n",
      "farray5[30] = 30\n",
      "farray5[31] = -1\n",
      "farray5[32] = 32\n",
      "farray5[33] = -1\n",
      "farray5[34] = 34\n",
      "farray5[35] = -1\n",
      "farray5[36] = 36\n",
      "farray5[37] = -1\n",
      "farray5[38] = 38\n",
      "farray5[39] = -1\n",
      "farray5[40] = 40\n",
      "farray5[41] = -1\n",
      "farray5[42] = 42\n",
      "farray5[43] = -1\n",
      "farray5[44] = 44\n",
      "farray5[45] = -1\n",
      "farray5[46] = 46\n",
      "farray5[47] = -1\n",
      "farray5[48] = 48\n",
      "farray5[49] = -1\n",
      "farray5[50] = 50\n",
      "farray5[51] = -1\n",
      "farray5[52] = 52\n",
      "farray5[53] = -1\n",
      "farray5[54] = 54\n",
      "farray5[55] = -1\n",
      "farray5[56] = 56\n",
      "farray5[57] = -1\n",
      "farray5[58] = 58\n",
      "farray5[59] = -1\n",
      "farray5[60] = 60\n",
      "farray5[61] = -1\n",
      "farray5[62] = 62\n",
      "farray5[63] = -1\n",
      "farray5[64] = 64\n",
      "farray5[65] = -1\n",
      "farray5[66] = 66\n",
      "farray5[67] = -1\n",
      "farray5[68] = 68\n",
      "farray5[69] = -1\n",
      "farray5[70] = 70\n",
      "farray5[71] = -1\n",
      "farray5[72] = 72\n",
      "farray5[73] = -1\n",
      "farray5[74] = 74\n",
      "farray5[75] = -1\n",
      "farray5[76] = 76\n",
      "farray5[77] = -1\n",
      "farray5[78] = 78\n",
      "farray5[79] = -1\n",
      "farray5[80] = 80\n",
      "farray5[81] = -1\n",
      "farray5[82] = 82\n",
      "farray5[83] = -1\n",
      "farray5[84] = 84\n",
      "farray5[85] = -1\n",
      "farray5[86] = 86\n",
      "farray5[87] = -1\n",
      "farray5[88] = 88\n",
      "farray5[89] = -1\n",
      "farray5[90] = 90\n",
      "farray5[91] = -1\n",
      "farray5[92] = 92\n",
      "farray5[93] = -1\n",
      "farray5[94] = 94\n",
      "farray5[95] = -1\n",
      "farray5[96] = 96\n",
      "farray5[97] = -1\n",
      "farray5[98] = 98\n",
      "farray5[99] = -1\n"
     ]
    }
   ],
   "source": [
    "print('Playing with 1D Arrays')\n",
    "print('')\n",
    "# Declare the float array of 100 elements\n",
    "farray1 = np.zeros(100,dtype=float)\n",
    "for n in range(len(farray1)):\n",
    "    # Set each element equal to 1\n",
    "    farray1[n] = 1\n",
    "    # Add 10 to each element\n",
    "    farray1[n] += 10\n",
    "print('Array of 100 1s plus 10:',farray1)\n",
    "# Add 100 to the first 50 elements\n",
    "for n in range(50):\n",
    "    farray1[n] += 100\n",
    "# Declare another float array\n",
    "farray2 = np.zeros(100,dtype=float)\n",
    "for n in range(len(farray2)):\n",
    "    # Set the array values to 50\n",
    "    farray2[n] = 50\n",
    "print('Array of 100 50s:',farray2)\n",
    "farray3 = farray1 + farray2\n",
    "print('Sum of the first two arrays:',farray3)\n",
    "farray4 = farray1*farray2\n",
    "print('Product of the first two arrays:',farray4)\n",
    "farray5 = np.arange(0,100)\n",
    "print('Array of 100 values of 0,1,2,...:',farray5)\n",
    "for n in range(len(farray5)):\n",
    "    if(farray5[n]%2 == 1):\n",
    "        farray5[n] = -1\n",
    "print('Array of 100 values with all odd elements equal to -1:')\n",
    "for n in range(len(farray5)):\n",
    "    print('farray5[{0}] = {1}'.format(n,farray5[n]))"
   ]
  },
  {
   "cell_type": "code",
   "execution_count": 144,
   "metadata": {
    "scrolled": true
   },
   "outputs": [
    {
     "name": "stdout",
     "output_type": "stream",
     "text": [
      "Plotting\n",
      "\n"
     ]
    },
    {
     "data": {
      "image/png": "[encoded data removed]",
      "text/plain": [
       "<Figure size 504x504 with 1 Axes>"
      ]
     },
     "metadata": {
      "needs_background": "light"
     },
     "output_type": "display_data"
    }
   ],
   "source": [
    "print('Plotting')\n",
    "print('')\n",
    "# Adjusting figure\n",
    "plt.figure(figsize=(7,7))\n",
    "# Creating title\n",
    "plt.title('Plot of first 4 arrays in the section \"Playing with 1D Arrays\"')\n",
    "\n",
    "plt.plot(farray1,'r-')\n",
    "# Plotting the four arrays on the figure with different colors and line types\n",
    "plt.plot(farray2,'k')\n",
    "plt.plot(farray3,'b.')\n",
    "plt.plot(farray4,'m:')\n",
    "# Creating labels on the x,y axes\n",
    "plt.ylabel('Value at index n')\n",
    "plt.xlabel('Index n');"
   ]
  },
  {
   "cell_type": "code",
   "execution_count": 145,
   "metadata": {},
   "outputs": [
    {
     "name": "stdout",
     "output_type": "stream",
     "text": [
      "Where/Indices\n",
      "\n",
      "Array with the value with an absolute value greater than 40 equal to -999: [-999 -999 -999 -999 -999 -999 -999 -999 -999 -999  -40  -39  -38  -37\n",
      "  -36  -35  -34  -33  -32  -31  -30  -29  -28  -27  -26  -25  -24  -23\n",
      "  -22  -21  -20  -19  -18  -17  -16  -15  -14  -13  -12  -11  -10   -9\n",
      "   -8   -7   -6   -5   -4   -3   -2   -1    0    1    2    3    4    5\n",
      "    6    7    8    9   10   11   12   13   14   15   16   17   18   19\n",
      "   20   21   22   23   24   25   26   27   28   29   30   31   32   33\n",
      "   34   35   36   37   38   39   40 -999 -999 -999 -999 -999 -999 -999\n",
      " -999 -999 -999]\n"
     ]
    }
   ],
   "source": [
    "print('Where/Indices')\n",
    "print('')\n",
    "# Create an array with values [-50,-49,...,49,50]\n",
    "array = np.arange(-50,51)\n",
    "# Find the indices of the elements whose absolute value is greater than 40\n",
    "indices = np.where(np.abs(array)>40)\n",
    "# Set the values of the array for the indices to -999\n",
    "for n in range(len(indices)):\n",
    "    array[indices[n]] = -999\n",
    "print('Array with the value with an absolute value greater than 40 equal to -999:',array)"
   ]
  },
  {
   "cell_type": "code",
   "execution_count": 146,
   "metadata": {
    "scrolled": true
   },
   "outputs": [
    {
     "name": "stdout",
     "output_type": "stream",
     "text": [
      "Playing with 2D Arrays\n",
      "\n"
     ]
    },
    {
     "data": {
      "image/png": "[encoded data removed]",
      "text/plain": [
       "<Figure size 504x504 with 2 Axes>"
      ]
     },
     "metadata": {
      "needs_background": "light"
     },
     "output_type": "display_data"
    }
   ],
   "source": [
    "print('Playing with 2D Arrays')\n",
    "print('')\n",
    "# Generate a 100x100 array\n",
    "tdarray1 = np.zeros((100,100))\n",
    "# Set each row value to have a value equal to the row index\n",
    "for n in range(len(tdarray1[0])):\n",
    "    for j in range(len(tdarray1[0])):\n",
    "        tdarray1[n,j] = n\n",
    "# Plot the 2D array with a colorbar\n",
    "plt.figure(figsize=(7,7))\n",
    "plt.imshow(tdarray1,origin='lower')\n",
    "plt.colorbar().set_label('Element Value',rotation=270,labelpad=15)\n",
    "plt.title('Values of 2D 100x100 Array')\n",
    "plt.ylabel('Column Number')\n",
    "plt.xlabel('Row Number');"
   ]
  },
  {
   "cell_type": "code",
   "execution_count": 147,
   "metadata": {},
   "outputs": [
    {
     "data": {
      "image/png": "[encoded data removed]",
      "text/plain": [
       "<Figure size 504x504 with 1 Axes>"
      ]
     },
     "metadata": {
      "needs_background": "light"
     },
     "output_type": "display_data"
    }
   ],
   "source": [
    "# Generate another 100x100 array\n",
    "tdarray2 = np.zeros((100,100))\n",
    "# Set all of tdarray2's values to 1\n",
    "for n in range(len(tdarray2[0])):\n",
    "    for j in range(len(tdarray2[0])):\n",
    "        tdarray2[n,j] = 1\n",
    "# Add the two arrays\n",
    "tdarray3 = tdarray1 + tdarray2\n",
    "# Multiply the two arrays\n",
    "tdarray4 = tdarray1*tdarray2\n",
    "# Plot the third column of the added arrays\n",
    "plt.figure(figsize=(7,7))\n",
    "plt.plot(tdarray3[:,3])\n",
    "plt.title('Third column of the added arrays tdarray3')\n",
    "plt.xlabel('Index n')\n",
    "plt.ylabel('Value of element with index n in the third column');"
   ]
  },
  {
   "cell_type": "code",
   "execution_count": 148,
   "metadata": {},
   "outputs": [
    {
     "data": {
      "image/png": "[encoded data removed]",
      "text/plain": [
       "<Figure size 432x288 with 1 Axes>"
      ]
     },
     "metadata": {
      "needs_background": "light"
     },
     "output_type": "display_data"
    }
   ],
   "source": [
    "# Generate normally distributed random number array\n",
    "random = np.random.randn(1000)\n",
    "# Generate histogram of random number array\n",
    "plt.hist(random,bins=100);"
   ]
  },
  {
   "cell_type": "code",
   "execution_count": 149,
   "metadata": {},
   "outputs": [
    {
     "data": {
      "text/plain": [
       "0.05477976427979569"
      ]
     },
     "execution_count": 149,
     "metadata": {},
     "output_type": "execute_result"
    }
   ],
   "source": [
    "# Take the mean\n",
    "np.mean(random)"
   ]
  },
  {
   "cell_type": "code",
   "execution_count": 150,
   "metadata": {},
   "outputs": [
    {
     "data": {
      "text/plain": [
       "0.06862310233299619"
      ]
     },
     "execution_count": 150,
     "metadata": {},
     "output_type": "execute_result"
    }
   ],
   "source": [
    "# Take the median\n",
    "np.median(random)"
   ]
  },
  {
   "cell_type": "code",
   "execution_count": 151,
   "metadata": {},
   "outputs": [
    {
     "data": {
      "text/plain": [
       "1.029063534327219"
      ]
     },
     "execution_count": 151,
     "metadata": {},
     "output_type": "execute_result"
    }
   ],
   "source": [
    "# Find the RMS\n",
    "RMS = np.sqrt(np.mean(random**2))\n",
    "RMS"
   ]
  },
  {
   "cell_type": "code",
   "execution_count": 152,
   "metadata": {},
   "outputs": [
    {
     "data": {
      "text/plain": [
       "963"
      ]
     },
     "execution_count": 152,
     "metadata": {},
     "output_type": "execute_result"
    }
   ],
   "source": [
    "Rindices = []\n",
    "# Get the indices of the values in random that fall outside the RMS\n",
    "for n in range(len(random)):\n",
    "    if(np.abs(random[n])>2*RMS):\n",
    "        Rindices.append(n)\n",
    "Narray = []\n",
    "# Generate an array without the indices in Rindices\n",
    "for n in range(len(random)):\n",
    "    if n in Rindices:\n",
    "        continue\n",
    "    else:\n",
    "        Narray.append(random[n])\n",
    "len(Narray)"
   ]
  },
  {
   "cell_type": "code",
   "execution_count": 153,
   "metadata": {},
   "outputs": [],
   "source": [
    "Farray = []\n",
    "for j in range(len(Narray)):\n",
    "    Farray.append(Narray[j]**2)"
   ]
  },
  {
   "cell_type": "code",
   "execution_count": 154,
   "metadata": {},
   "outputs": [
    {
     "data": {
      "text/plain": [
       "0.9267778138155509"
      ]
     },
     "execution_count": 154,
     "metadata": {},
     "output_type": "execute_result"
    }
   ],
   "source": [
    "RMSnew = np.sqrt(np.mean(Farray))\n",
    "RMSnew"
   ]
  },
  {
   "cell_type": "code",
   "execution_count": null,
   "metadata": {},
   "outputs": [],
   "source": []
  }
 ],
 "metadata": {
  "kernelspec": {
   "display_name": "Python 3",
   "language": "python",
   "name": "python3"
  },
  "language_info": {
   "codemirror_mode": {
    "name": "ipython",
    "version": 3
   },
   "file_extension": ".py",
   "mimetype": "text/x-python",
   "name": "python",
   "nbconvert_exporter": "python",
   "pygments_lexer": "ipython3",
   "version": "3.6.6"
  }
 },
 "nbformat": 4,
 "nbformat_minor": 2
}
