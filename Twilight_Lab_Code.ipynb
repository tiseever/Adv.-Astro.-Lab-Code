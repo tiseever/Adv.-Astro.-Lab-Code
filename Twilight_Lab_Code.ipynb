{
 "cells": [
  {
   "cell_type": "code",
   "execution_count": 3,
   "metadata": {},
   "outputs": [],
   "source": [
    "from __future__ import division\n",
    "import glob\n",
    "import re\n",
    "import os,sys\n",
    "from astropy.io import fits\n",
    "from astropy.io.fits import getheader, getdata\n",
    "import numpy as np\n",
    "import matplotlib.pyplot as plt\n",
    "import numpy.ma as ma\n",
    "from scipy.stats import chisquare as cs"
   ]
  },
  {
   "cell_type": "code",
   "execution_count": 4,
   "metadata": {},
   "outputs": [],
   "source": [
    "# Create a list of all of the fits file drectories\n",
    "obj_list = glob.glob('/Users/hitom/Downloads/Academics/UCSC Classes/Spring 2019/ASTR136/TWILIGHT/*.FIT')"
   ]
  },
  {
   "cell_type": "code",
   "execution_count": 5,
   "metadata": {},
   "outputs": [
    {
     "data": {
      "text/plain": [
       "['/Users/hitom/Downloads/Academics/UCSC Classes/Spring 2019/ASTR136/TWILIGHT\\\\TWILIGHT.00000015.BIAS.FIT',\n",
       " '/Users/hitom/Downloads/Academics/UCSC Classes/Spring 2019/ASTR136/TWILIGHT\\\\TWILIGHT.00000016.BIAS.FIT',\n",
       " '/Users/hitom/Downloads/Academics/UCSC Classes/Spring 2019/ASTR136/TWILIGHT\\\\TWILIGHT.00000017.BIAS.FIT',\n",
       " '/Users/hitom/Downloads/Academics/UCSC Classes/Spring 2019/ASTR136/TWILIGHT\\\\TWILIGHT.00000018.BIAS.FIT',\n",
       " '/Users/hitom/Downloads/Academics/UCSC Classes/Spring 2019/ASTR136/TWILIGHT\\\\TWILIGHT.00000019.BIAS.FIT',\n",
       " '/Users/hitom/Downloads/Academics/UCSC Classes/Spring 2019/ASTR136/TWILIGHT\\\\TWILIGHT.00000020.BIAS.FIT',\n",
       " '/Users/hitom/Downloads/Academics/UCSC Classes/Spring 2019/ASTR136/TWILIGHT\\\\TWILIGHT.00000021.BIAS.FIT',\n",
       " '/Users/hitom/Downloads/Academics/UCSC Classes/Spring 2019/ASTR136/TWILIGHT\\\\TWILIGHT.00000022.BIAS.FIT',\n",
       " '/Users/hitom/Downloads/Academics/UCSC Classes/Spring 2019/ASTR136/TWILIGHT\\\\TWILIGHT.00000023.BIAS.FIT',\n",
       " '/Users/hitom/Downloads/Academics/UCSC Classes/Spring 2019/ASTR136/TWILIGHT\\\\TWILIGHT.00000024.BIAS.FIT',\n",
       " '/Users/hitom/Downloads/Academics/UCSC Classes/Spring 2019/ASTR136/TWILIGHT\\\\TWILIGHT.00000025.BIAS.FIT',\n",
       " '/Users/hitom/Downloads/Academics/UCSC Classes/Spring 2019/ASTR136/TWILIGHT\\\\TWILIGHT.00000026.BIAS.FIT',\n",
       " '/Users/hitom/Downloads/Academics/UCSC Classes/Spring 2019/ASTR136/TWILIGHT\\\\TWILIGHT.00000027.BIAS.FIT',\n",
       " '/Users/hitom/Downloads/Academics/UCSC Classes/Spring 2019/ASTR136/TWILIGHT\\\\TWILIGHT.00000028.BIAS.FIT',\n",
       " '/Users/hitom/Downloads/Academics/UCSC Classes/Spring 2019/ASTR136/TWILIGHT\\\\TWILIGHT.00000029.BIAS.FIT',\n",
       " '/Users/hitom/Downloads/Academics/UCSC Classes/Spring 2019/ASTR136/TWILIGHT\\\\TWILIGHT.00000030.BIAS.FIT',\n",
       " '/Users/hitom/Downloads/Academics/UCSC Classes/Spring 2019/ASTR136/TWILIGHT\\\\TWILIGHT.00000031.BIAS.FIT',\n",
       " '/Users/hitom/Downloads/Academics/UCSC Classes/Spring 2019/ASTR136/TWILIGHT\\\\TWILIGHT.00000032.BIAS.FIT',\n",
       " '/Users/hitom/Downloads/Academics/UCSC Classes/Spring 2019/ASTR136/TWILIGHT\\\\TWILIGHT.00000033.BIAS.FIT',\n",
       " '/Users/hitom/Downloads/Academics/UCSC Classes/Spring 2019/ASTR136/TWILIGHT\\\\TWILIGHT.00000035.FIT',\n",
       " '/Users/hitom/Downloads/Academics/UCSC Classes/Spring 2019/ASTR136/TWILIGHT\\\\TWILIGHT.00000036.FIT',\n",
       " '/Users/hitom/Downloads/Academics/UCSC Classes/Spring 2019/ASTR136/TWILIGHT\\\\TWILIGHT.00000037.FIT',\n",
       " '/Users/hitom/Downloads/Academics/UCSC Classes/Spring 2019/ASTR136/TWILIGHT\\\\TWILIGHT.00000038.FIT',\n",
       " '/Users/hitom/Downloads/Academics/UCSC Classes/Spring 2019/ASTR136/TWILIGHT\\\\TWILIGHT.00000039.FIT',\n",
       " '/Users/hitom/Downloads/Academics/UCSC Classes/Spring 2019/ASTR136/TWILIGHT\\\\TWILIGHT.00000040.FIT',\n",
       " '/Users/hitom/Downloads/Academics/UCSC Classes/Spring 2019/ASTR136/TWILIGHT\\\\TWILIGHT.00000041.FIT',\n",
       " '/Users/hitom/Downloads/Academics/UCSC Classes/Spring 2019/ASTR136/TWILIGHT\\\\TWILIGHT.00000042.FIT',\n",
       " '/Users/hitom/Downloads/Academics/UCSC Classes/Spring 2019/ASTR136/TWILIGHT\\\\TWILIGHT.00000043.FIT',\n",
       " '/Users/hitom/Downloads/Academics/UCSC Classes/Spring 2019/ASTR136/TWILIGHT\\\\TWILIGHT.00000044.FIT',\n",
       " '/Users/hitom/Downloads/Academics/UCSC Classes/Spring 2019/ASTR136/TWILIGHT\\\\TWILIGHT.00000045.FIT',\n",
       " '/Users/hitom/Downloads/Academics/UCSC Classes/Spring 2019/ASTR136/TWILIGHT\\\\TWILIGHT.00000046.FIT',\n",
       " '/Users/hitom/Downloads/Academics/UCSC Classes/Spring 2019/ASTR136/TWILIGHT\\\\TWILIGHT.00000047.FIT',\n",
       " '/Users/hitom/Downloads/Academics/UCSC Classes/Spring 2019/ASTR136/TWILIGHT\\\\TWILIGHT.00000048.FIT',\n",
       " '/Users/hitom/Downloads/Academics/UCSC Classes/Spring 2019/ASTR136/TWILIGHT\\\\TWILIGHT.00000049.FIT',\n",
       " '/Users/hitom/Downloads/Academics/UCSC Classes/Spring 2019/ASTR136/TWILIGHT\\\\TWILIGHT.00000050.FIT',\n",
       " '/Users/hitom/Downloads/Academics/UCSC Classes/Spring 2019/ASTR136/TWILIGHT\\\\TWILIGHT.00000051.FIT',\n",
       " '/Users/hitom/Downloads/Academics/UCSC Classes/Spring 2019/ASTR136/TWILIGHT\\\\TWILIGHT.00000052.FIT',\n",
       " '/Users/hitom/Downloads/Academics/UCSC Classes/Spring 2019/ASTR136/TWILIGHT\\\\TWILIGHT.00000053.FIT',\n",
       " '/Users/hitom/Downloads/Academics/UCSC Classes/Spring 2019/ASTR136/TWILIGHT\\\\TWILIGHT.00000054.FIT',\n",
       " '/Users/hitom/Downloads/Academics/UCSC Classes/Spring 2019/ASTR136/TWILIGHT\\\\TWILIGHT.00000055.FIT',\n",
       " '/Users/hitom/Downloads/Academics/UCSC Classes/Spring 2019/ASTR136/TWILIGHT\\\\TWILIGHT.00000056.FIT',\n",
       " '/Users/hitom/Downloads/Academics/UCSC Classes/Spring 2019/ASTR136/TWILIGHT\\\\TWILIGHT.00000057.FIT',\n",
       " '/Users/hitom/Downloads/Academics/UCSC Classes/Spring 2019/ASTR136/TWILIGHT\\\\TWILIGHT.00000058.FIT',\n",
       " '/Users/hitom/Downloads/Academics/UCSC Classes/Spring 2019/ASTR136/TWILIGHT\\\\TWILIGHT.00000059.FIT',\n",
       " '/Users/hitom/Downloads/Academics/UCSC Classes/Spring 2019/ASTR136/TWILIGHT\\\\TWILIGHT.00000060.DARK.FIT',\n",
       " '/Users/hitom/Downloads/Academics/UCSC Classes/Spring 2019/ASTR136/TWILIGHT\\\\TWILIGHT.00000061.DARK.FIT',\n",
       " '/Users/hitom/Downloads/Academics/UCSC Classes/Spring 2019/ASTR136/TWILIGHT\\\\TWILIGHT.00000062.DARK.FIT',\n",
       " '/Users/hitom/Downloads/Academics/UCSC Classes/Spring 2019/ASTR136/TWILIGHT\\\\TWILIGHT.00000063.DARK.FIT',\n",
       " '/Users/hitom/Downloads/Academics/UCSC Classes/Spring 2019/ASTR136/TWILIGHT\\\\TWILIGHT.00000064.DARK.FIT',\n",
       " '/Users/hitom/Downloads/Academics/UCSC Classes/Spring 2019/ASTR136/TWILIGHT\\\\TWILIGHT.00000065.DARK.FIT']"
      ]
     },
     "execution_count": 5,
     "metadata": {},
     "output_type": "execute_result"
    }
   ],
   "source": [
    "obj_list"
   ]
  },
  {
   "cell_type": "code",
   "execution_count": 6,
   "metadata": {},
   "outputs": [],
   "source": [
    "# Separate the darks, biases, and light frames into different dictionaries\n",
    "Dfits = {}\n",
    "Dfits_open = {}\n",
    "Bfits = {}\n",
    "Bfits_open = {}\n",
    "Fits = {}\n",
    "Fits_open = {}\n",
    "Dcount = 0\n",
    "Bcount = 0\n",
    "Count = 0\n",
    "for n in range(len(obj_list)):\n",
    "    if 'DARK' in obj_list[n]:\n",
    "        Dfits[n-Dcount] = obj_list[n]\n",
    "        Dfits_open[n-Dcount] = fits.open(obj_list[n])\n",
    "        Bcount += 1\n",
    "        Count += 1\n",
    "    elif 'BIAS' in obj_list[n]:\n",
    "        Bfits[n-Bcount] = obj_list[n]\n",
    "        Bfits_open[n-Bcount] = fits.open(obj_list[n])\n",
    "        Dcount += 1\n",
    "        Count += 1\n",
    "    else:\n",
    "        Fits[n-Count] = obj_list[n]\n",
    "        Fits_open[n-Count] = fits.open(obj_list[n])\n",
    "        Dcount += 1\n",
    "        Bcount += 1"
   ]
  },
  {
   "cell_type": "code",
   "execution_count": 7,
   "metadata": {},
   "outputs": [
    {
     "data": {
      "text/plain": [
       "{0: '/Users/hitom/Downloads/Academics/UCSC Classes/Spring 2019/ASTR136/TWILIGHT\\\\TWILIGHT.00000060.DARK.FIT',\n",
       " 1: '/Users/hitom/Downloads/Academics/UCSC Classes/Spring 2019/ASTR136/TWILIGHT\\\\TWILIGHT.00000061.DARK.FIT',\n",
       " 2: '/Users/hitom/Downloads/Academics/UCSC Classes/Spring 2019/ASTR136/TWILIGHT\\\\TWILIGHT.00000062.DARK.FIT',\n",
       " 3: '/Users/hitom/Downloads/Academics/UCSC Classes/Spring 2019/ASTR136/TWILIGHT\\\\TWILIGHT.00000063.DARK.FIT',\n",
       " 4: '/Users/hitom/Downloads/Academics/UCSC Classes/Spring 2019/ASTR136/TWILIGHT\\\\TWILIGHT.00000064.DARK.FIT',\n",
       " 5: '/Users/hitom/Downloads/Academics/UCSC Classes/Spring 2019/ASTR136/TWILIGHT\\\\TWILIGHT.00000065.DARK.FIT'}"
      ]
     },
     "execution_count": 7,
     "metadata": {},
     "output_type": "execute_result"
    }
   ],
   "source": [
    "Dfits"
   ]
  },
  {
   "cell_type": "code",
   "execution_count": 8,
   "metadata": {},
   "outputs": [
    {
     "data": {
      "text/plain": [
       "{0: '/Users/hitom/Downloads/Academics/UCSC Classes/Spring 2019/ASTR136/TWILIGHT\\\\TWILIGHT.00000015.BIAS.FIT',\n",
       " 1: '/Users/hitom/Downloads/Academics/UCSC Classes/Spring 2019/ASTR136/TWILIGHT\\\\TWILIGHT.00000016.BIAS.FIT',\n",
       " 2: '/Users/hitom/Downloads/Academics/UCSC Classes/Spring 2019/ASTR136/TWILIGHT\\\\TWILIGHT.00000017.BIAS.FIT',\n",
       " 3: '/Users/hitom/Downloads/Academics/UCSC Classes/Spring 2019/ASTR136/TWILIGHT\\\\TWILIGHT.00000018.BIAS.FIT',\n",
       " 4: '/Users/hitom/Downloads/Academics/UCSC Classes/Spring 2019/ASTR136/TWILIGHT\\\\TWILIGHT.00000019.BIAS.FIT',\n",
       " 5: '/Users/hitom/Downloads/Academics/UCSC Classes/Spring 2019/ASTR136/TWILIGHT\\\\TWILIGHT.00000020.BIAS.FIT',\n",
       " 6: '/Users/hitom/Downloads/Academics/UCSC Classes/Spring 2019/ASTR136/TWILIGHT\\\\TWILIGHT.00000021.BIAS.FIT',\n",
       " 7: '/Users/hitom/Downloads/Academics/UCSC Classes/Spring 2019/ASTR136/TWILIGHT\\\\TWILIGHT.00000022.BIAS.FIT',\n",
       " 8: '/Users/hitom/Downloads/Academics/UCSC Classes/Spring 2019/ASTR136/TWILIGHT\\\\TWILIGHT.00000023.BIAS.FIT',\n",
       " 9: '/Users/hitom/Downloads/Academics/UCSC Classes/Spring 2019/ASTR136/TWILIGHT\\\\TWILIGHT.00000024.BIAS.FIT',\n",
       " 10: '/Users/hitom/Downloads/Academics/UCSC Classes/Spring 2019/ASTR136/TWILIGHT\\\\TWILIGHT.00000025.BIAS.FIT',\n",
       " 11: '/Users/hitom/Downloads/Academics/UCSC Classes/Spring 2019/ASTR136/TWILIGHT\\\\TWILIGHT.00000026.BIAS.FIT',\n",
       " 12: '/Users/hitom/Downloads/Academics/UCSC Classes/Spring 2019/ASTR136/TWILIGHT\\\\TWILIGHT.00000027.BIAS.FIT',\n",
       " 13: '/Users/hitom/Downloads/Academics/UCSC Classes/Spring 2019/ASTR136/TWILIGHT\\\\TWILIGHT.00000028.BIAS.FIT',\n",
       " 14: '/Users/hitom/Downloads/Academics/UCSC Classes/Spring 2019/ASTR136/TWILIGHT\\\\TWILIGHT.00000029.BIAS.FIT',\n",
       " 15: '/Users/hitom/Downloads/Academics/UCSC Classes/Spring 2019/ASTR136/TWILIGHT\\\\TWILIGHT.00000030.BIAS.FIT',\n",
       " 16: '/Users/hitom/Downloads/Academics/UCSC Classes/Spring 2019/ASTR136/TWILIGHT\\\\TWILIGHT.00000031.BIAS.FIT',\n",
       " 17: '/Users/hitom/Downloads/Academics/UCSC Classes/Spring 2019/ASTR136/TWILIGHT\\\\TWILIGHT.00000032.BIAS.FIT',\n",
       " 18: '/Users/hitom/Downloads/Academics/UCSC Classes/Spring 2019/ASTR136/TWILIGHT\\\\TWILIGHT.00000033.BIAS.FIT'}"
      ]
     },
     "execution_count": 8,
     "metadata": {},
     "output_type": "execute_result"
    }
   ],
   "source": [
    "Bfits"
   ]
  },
  {
   "cell_type": "code",
   "execution_count": 9,
   "metadata": {},
   "outputs": [
    {
     "data": {
      "text/plain": [
       "{0: '/Users/hitom/Downloads/Academics/UCSC Classes/Spring 2019/ASTR136/TWILIGHT\\\\TWILIGHT.00000035.FIT',\n",
       " 1: '/Users/hitom/Downloads/Academics/UCSC Classes/Spring 2019/ASTR136/TWILIGHT\\\\TWILIGHT.00000036.FIT',\n",
       " 2: '/Users/hitom/Downloads/Academics/UCSC Classes/Spring 2019/ASTR136/TWILIGHT\\\\TWILIGHT.00000037.FIT',\n",
       " 3: '/Users/hitom/Downloads/Academics/UCSC Classes/Spring 2019/ASTR136/TWILIGHT\\\\TWILIGHT.00000038.FIT',\n",
       " 4: '/Users/hitom/Downloads/Academics/UCSC Classes/Spring 2019/ASTR136/TWILIGHT\\\\TWILIGHT.00000039.FIT',\n",
       " 5: '/Users/hitom/Downloads/Academics/UCSC Classes/Spring 2019/ASTR136/TWILIGHT\\\\TWILIGHT.00000040.FIT',\n",
       " 6: '/Users/hitom/Downloads/Academics/UCSC Classes/Spring 2019/ASTR136/TWILIGHT\\\\TWILIGHT.00000041.FIT',\n",
       " 7: '/Users/hitom/Downloads/Academics/UCSC Classes/Spring 2019/ASTR136/TWILIGHT\\\\TWILIGHT.00000042.FIT',\n",
       " 8: '/Users/hitom/Downloads/Academics/UCSC Classes/Spring 2019/ASTR136/TWILIGHT\\\\TWILIGHT.00000043.FIT',\n",
       " 9: '/Users/hitom/Downloads/Academics/UCSC Classes/Spring 2019/ASTR136/TWILIGHT\\\\TWILIGHT.00000044.FIT',\n",
       " 10: '/Users/hitom/Downloads/Academics/UCSC Classes/Spring 2019/ASTR136/TWILIGHT\\\\TWILIGHT.00000045.FIT',\n",
       " 11: '/Users/hitom/Downloads/Academics/UCSC Classes/Spring 2019/ASTR136/TWILIGHT\\\\TWILIGHT.00000046.FIT',\n",
       " 12: '/Users/hitom/Downloads/Academics/UCSC Classes/Spring 2019/ASTR136/TWILIGHT\\\\TWILIGHT.00000047.FIT',\n",
       " 13: '/Users/hitom/Downloads/Academics/UCSC Classes/Spring 2019/ASTR136/TWILIGHT\\\\TWILIGHT.00000048.FIT',\n",
       " 14: '/Users/hitom/Downloads/Academics/UCSC Classes/Spring 2019/ASTR136/TWILIGHT\\\\TWILIGHT.00000049.FIT',\n",
       " 15: '/Users/hitom/Downloads/Academics/UCSC Classes/Spring 2019/ASTR136/TWILIGHT\\\\TWILIGHT.00000050.FIT',\n",
       " 16: '/Users/hitom/Downloads/Academics/UCSC Classes/Spring 2019/ASTR136/TWILIGHT\\\\TWILIGHT.00000051.FIT',\n",
       " 17: '/Users/hitom/Downloads/Academics/UCSC Classes/Spring 2019/ASTR136/TWILIGHT\\\\TWILIGHT.00000052.FIT',\n",
       " 18: '/Users/hitom/Downloads/Academics/UCSC Classes/Spring 2019/ASTR136/TWILIGHT\\\\TWILIGHT.00000053.FIT',\n",
       " 19: '/Users/hitom/Downloads/Academics/UCSC Classes/Spring 2019/ASTR136/TWILIGHT\\\\TWILIGHT.00000054.FIT',\n",
       " 20: '/Users/hitom/Downloads/Academics/UCSC Classes/Spring 2019/ASTR136/TWILIGHT\\\\TWILIGHT.00000055.FIT',\n",
       " 21: '/Users/hitom/Downloads/Academics/UCSC Classes/Spring 2019/ASTR136/TWILIGHT\\\\TWILIGHT.00000056.FIT',\n",
       " 22: '/Users/hitom/Downloads/Academics/UCSC Classes/Spring 2019/ASTR136/TWILIGHT\\\\TWILIGHT.00000057.FIT',\n",
       " 23: '/Users/hitom/Downloads/Academics/UCSC Classes/Spring 2019/ASTR136/TWILIGHT\\\\TWILIGHT.00000058.FIT',\n",
       " 24: '/Users/hitom/Downloads/Academics/UCSC Classes/Spring 2019/ASTR136/TWILIGHT\\\\TWILIGHT.00000059.FIT'}"
      ]
     },
     "execution_count": 9,
     "metadata": {},
     "output_type": "execute_result"
    }
   ],
   "source": [
    "Fits"
   ]
  },
  {
   "cell_type": "code",
   "execution_count": 10,
   "metadata": {},
   "outputs": [
    {
     "name": "stdout",
     "output_type": "stream",
     "text": [
      "Filename: /Users/hitom/Downloads/Academics/UCSC Classes/Spring 2019/ASTR136/TWILIGHT\\TWILIGHT.00000060.DARK.FIT\n",
      "No.    Name      Ver    Type      Cards   Dimensions   Format\n",
      "  0  PRIMARY       1 PrimaryHDU      46   (765, 510)   int16 (rescales to uint16)   \n"
     ]
    }
   ],
   "source": [
    "Dfits_open[0].info()"
   ]
  },
  {
   "cell_type": "code",
   "execution_count": 11,
   "metadata": {},
   "outputs": [
    {
     "data": {
      "text/plain": [
       "array([[121, 122, 123, ..., 108, 115,  96],\n",
       "       [122, 135, 120, ..., 113,  98, 118],\n",
       "       [124, 134, 133, ..., 101, 107, 103],\n",
       "       ...,\n",
       "       [128, 118, 126, ..., 109, 107, 102],\n",
       "       [125, 140, 127, ...,  96, 108,  99],\n",
       "       [130, 128, 130, ..., 108, 102, 107]], dtype=uint16)"
      ]
     },
     "execution_count": 11,
     "metadata": {},
     "output_type": "execute_result"
    }
   ],
   "source": [
    "Bfits_open[0][0].data"
   ]
  },
  {
   "cell_type": "code",
   "execution_count": 12,
   "metadata": {},
   "outputs": [
    {
     "data": {
      "text/plain": [
       "array([[0., 0., 0., ..., 0., 0., 0.],\n",
       "       [0., 0., 0., ..., 0., 0., 0.],\n",
       "       [0., 0., 0., ..., 0., 0., 0.],\n",
       "       ...,\n",
       "       [0., 0., 0., ..., 0., 0., 0.],\n",
       "       [0., 0., 0., ..., 0., 0., 0.],\n",
       "       [0., 0., 0., ..., 0., 0., 0.]])"
      ]
     },
     "execution_count": 12,
     "metadata": {},
     "output_type": "execute_result"
    }
   ],
   "source": [
    "# Create an empty arrat to contain the master bias array\n",
    "bshape = getdata(Bfits[0])\n",
    "Master_b = np.empty(bshape.shape)\n",
    "Master_b"
   ]
  },
  {
   "cell_type": "code",
   "execution_count": 13,
   "metadata": {},
   "outputs": [
    {
     "data": {
      "text/plain": [
       "array([[2355., 2310., 2371., ..., 2027., 1954., 1981.],\n",
       "       [2370., 2345., 2323., ..., 1941., 1975., 1930.],\n",
       "       [2428., 2369., 2368., ..., 1987., 1977., 1987.],\n",
       "       ...,\n",
       "       [2364., 2338., 2345., ..., 1997., 1941., 1951.],\n",
       "       [2340., 2368., 2386., ..., 1938., 1981., 1946.],\n",
       "       [2372., 2314., 2365., ..., 1956., 1981., 1932.]])"
      ]
     },
     "execution_count": 13,
     "metadata": {},
     "output_type": "execute_result"
    }
   ],
   "source": [
    "# Add together all of the bias frames\n",
    "for i in range(len(Bfits)):\n",
    "    Master_b = Master_b + Bfits_open[i][0].data\n",
    "Master_b"
   ]
  },
  {
   "cell_type": "code",
   "execution_count": 14,
   "metadata": {},
   "outputs": [],
   "source": [
    "# Average the sum of the bias frames\n",
    "A_Master_b = Master_b/len(Bfits)"
   ]
  },
  {
   "cell_type": "code",
   "execution_count": 15,
   "metadata": {},
   "outputs": [
    {
     "data": {
      "text/plain": [
       "array([[123.94736842, 121.57894737, 124.78947368, ..., 106.68421053,\n",
       "        102.84210526, 104.26315789],\n",
       "       [124.73684211, 123.42105263, 122.26315789, ..., 102.15789474,\n",
       "        103.94736842, 101.57894737],\n",
       "       [127.78947368, 124.68421053, 124.63157895, ..., 104.57894737,\n",
       "        104.05263158, 104.57894737],\n",
       "       ...,\n",
       "       [124.42105263, 123.05263158, 123.42105263, ..., 105.10526316,\n",
       "        102.15789474, 102.68421053],\n",
       "       [123.15789474, 124.63157895, 125.57894737, ..., 102.        ,\n",
       "        104.26315789, 102.42105263],\n",
       "       [124.84210526, 121.78947368, 124.47368421, ..., 102.94736842,\n",
       "        104.26315789, 101.68421053]])"
      ]
     },
     "execution_count": 15,
     "metadata": {},
     "output_type": "execute_result"
    }
   ],
   "source": [
    "A_Master_b"
   ]
  },
  {
   "cell_type": "code",
   "execution_count": 16,
   "metadata": {},
   "outputs": [
    {
     "data": {
      "text/plain": [
       "SIMPLE  =                    T/CCDSOFT-SOFTWARE BISQUE 3                        \n",
       "BITPIX  =                   16                                                  \n",
       "NAXIS   =                    2                                                  \n",
       "NAXIS1  =                  765                                                  \n",
       "NAXIS2  =                  510                                                  \n",
       "BSCALE  = +1.000000000000E+000                                                  \n",
       "BZERO   = +3.276800000000E+004                                                  \n",
       "BIAS    =                  100                                                  \n",
       "FOCALLEN= +2.000000000000E+003                                                  \n",
       "APTAREA = +0.000000000000E+000                                                  \n",
       "APTDIA  = +2.500000000000E+002                                                  \n",
       "TELESCOP= 'Astro-Physics RC    '                                                \n",
       "OBSERVER= 'George Brown        '                                                \n",
       "DATE-OBS= '2019-04-11T04:00:49.236'                                             \n",
       "TIME-OBS= '04:00:49.236        '                                                \n",
       "SWCREATE= 'CCDSoft Version 5.00.210'                                            \n",
       "SET-TEMP= -5.000000000000E+000                                                  \n",
       "COLORCCD=                    0                                                  \n",
       "DISPCOLR=                    1                                                  \n",
       "IMAGETYP= 'Dark Frame          '                                                \n",
       "CCDSFPT =                    3                                                  \n",
       "XORGSUBF=                    0                                                  \n",
       "YORGSUBF=                    0                                                  \n",
       "CCDSUBFL=                    0                                                  \n",
       "CCDSUBFT=                    0                                                  \n",
       "XBINNING=                    1                                                  \n",
       "CCDXBIN =                    1                                                  \n",
       "YBINNING=                    1                                                  \n",
       "CCDYBIN =                    1                                                  \n",
       "EXPSTATE=                  293                                                  \n",
       "CCD-TEMP= -5.232156845990E+000                                                  \n",
       "TEMPERAT= -5.232156845990E+000                                                  \n",
       "INSTRUME= 'SBIG ST-7 Dual CCD Camera'                                           \n",
       "EGAIN   = +2.590000000000E+000                                                  \n",
       "E-GAIN  = +2.590000000000E+000                                                  \n",
       "XPIXSZ  = +9.000000000000E+000                                                  \n",
       "YPIXSZ  = +9.000000000000E+000                                                  \n",
       "SBIGIMG =                    5                                                  \n",
       "USER_2  = 'SBIG ST-7 Dual CCD Camera'                                           \n",
       "DATAMAX =                65535                                                  \n",
       "SBSTDVER= 'SBFITSEXT Version 1.0'                                               \n",
       "FILTER  = 'Blue                '                                                \n",
       "EXPTIME = +2.500000000000E+001                                                  \n",
       "EXPOSURE= +2.500000000000E+001                                                  \n",
       "CBLACK  =                   90                                                  \n",
       "CWHITE  =                  154                                                  "
      ]
     },
     "execution_count": 16,
     "metadata": {},
     "output_type": "execute_result"
    }
   ],
   "source": [
    "Dfits_open[0][0].header"
   ]
  },
  {
   "cell_type": "code",
   "execution_count": 17,
   "metadata": {},
   "outputs": [
    {
     "data": {
      "text/plain": [
       "25.0"
      ]
     },
     "execution_count": 17,
     "metadata": {},
     "output_type": "execute_result"
    }
   ],
   "source": [
    "Dfits_open[0][0].header[42]"
   ]
  },
  {
   "cell_type": "code",
   "execution_count": 18,
   "metadata": {},
   "outputs": [
    {
     "data": {
      "text/plain": [
       "'49.236'"
      ]
     },
     "execution_count": 18,
     "metadata": {},
     "output_type": "execute_result"
    }
   ],
   "source": [
    "# Note: This is the time at which the measurement was taken\n",
    "Test_Time = Dfits_open[0][0].header[14]\n",
    "Test_Hour = Test_Time[0:2]\n",
    "Test_Minute = Test_Time[3:5]\n",
    "Test_Second = Test_Time[6:12]\n",
    "Test_Second"
   ]
  },
  {
   "cell_type": "code",
   "execution_count": 19,
   "metadata": {},
   "outputs": [],
   "source": [
    "# Record the dark frame exposure times\n",
    "Dexptimes = np.empty(len(Dfits))\n",
    "for i in range(len(Dfits)):\n",
    "    Dexptimes[i] = Dfits_open[i][0].header[42]"
   ]
  },
  {
   "cell_type": "code",
   "execution_count": 20,
   "metadata": {},
   "outputs": [
    {
     "data": {
      "text/plain": [
       "array([25., 25., 30., 40., 60., 70.])"
      ]
     },
     "execution_count": 20,
     "metadata": {},
     "output_type": "execute_result"
    }
   ],
   "source": [
    "Dexptimes"
   ]
  },
  {
   "cell_type": "code",
   "execution_count": 21,
   "metadata": {},
   "outputs": [],
   "source": [
    "# Import the master bias frame found earlier\n",
    "Mbias = A_Master_b\n",
    "Mbias_data = Mbias"
   ]
  },
  {
   "cell_type": "code",
   "execution_count": 22,
   "metadata": {},
   "outputs": [],
   "source": [
    "# Find the master dark frames\n",
    "Master_d = {}\n",
    "for i in range(len(Dfits)):\n",
    "    Master_d[i] = (Dfits_open[i][0].data - Mbias_data)/Dexptimes[i]"
   ]
  },
  {
   "cell_type": "code",
   "execution_count": 23,
   "metadata": {},
   "outputs": [
    {
     "data": {
      "text/plain": [
       "{0: array([[ 0.20210526, -0.02315789, -0.15157895, ..., -0.14736842,\n",
       "         -0.19368421, -0.05052632],\n",
       "        [-0.06947368,  0.26315789,  0.50947368, ...,  0.19368421,\n",
       "         -0.35789474,  0.37684211],\n",
       "        [-0.03157895,  0.65263158, -0.18526316, ..., -0.14315789,\n",
       "         -0.00210526,  0.05684211],\n",
       "        ...,\n",
       "        [-0.09684211, -0.80210526,  0.22315789, ..., -0.00421053,\n",
       "          0.27368421, -0.02736842],\n",
       "        [ 0.11368421,  0.01473684,  0.33684211, ..., -0.28      ,\n",
       "         -0.17052632,  0.46315789],\n",
       "        [-0.11368421,  0.08842105, -0.13894737, ...,  0.12210526,\n",
       "          0.02947368,  0.13263158]]),\n",
       " 1: array([[-0.07789474, -0.06315789,  0.00842105, ...,  0.05263158,\n",
       "          0.36631579, -0.13052632],\n",
       "        [ 0.09052632,  0.10315789, -0.01052632, ...,  0.47368421,\n",
       "          0.04210526, -0.02315789],\n",
       "        [-0.11157895, -0.10736842, -0.30526316, ..., -0.46315789,\n",
       "         -0.24210526, -0.06315789],\n",
       "        ...,\n",
       "        [ 0.42315789,  0.11789474,  0.54315789, ...,  0.19578947,\n",
       "          0.03368421,  0.05263158],\n",
       "        [ 0.07368421,  0.37473684, -0.14315789, ...,  0.52      ,\n",
       "         -0.13052632,  0.18315789],\n",
       "        [-0.07368421,  0.08842105,  0.10105263, ...,  0.40210526,\n",
       "          0.38947368,  0.01263158]]),\n",
       " 2: array([[ 0.23508772,  0.24736842,  0.44035088, ..., -0.45614035,\n",
       "          0.27192982,  0.4245614 ],\n",
       "        [ 0.10877193, -0.01403509,  0.19122807, ..., -0.33859649,\n",
       "          0.06842105, -0.05263158],\n",
       "        [-0.05964912,  0.07719298,  0.2122807 , ..., -0.05263158,\n",
       "          0.13157895, -0.35263158],\n",
       "        ...,\n",
       "        [-0.04736842,  0.19824561,  0.18596491, ..., -0.00350877,\n",
       "          0.29473684,  0.17719298],\n",
       "        [ 0.09473684,  0.1122807 ,  0.04736842, ...,  0.13333333,\n",
       "          0.05789474, -0.14736842],\n",
       "        [-0.09473684, -0.05964912,  0.58421053, ...,  0.83508772,\n",
       "          0.09122807, -0.25614035]]),\n",
       " 3: array([[-0.02368421, -0.13947368, -0.16973684, ...,  0.08289474,\n",
       "          0.12894737,  0.16842105],\n",
       "        [-0.16842105, -0.06052632, -0.13157895, ..., -0.12894737,\n",
       "         -0.22368421,  0.08552632],\n",
       "        [-0.29473684, -0.14210526, -0.34078947, ..., -0.21447368,\n",
       "         -0.20131579, -0.03947368],\n",
       "        ...,\n",
       "        [-0.18552632, -0.07631579,  0.21447368, ..., -0.25263158,\n",
       "          0.09605263, -0.04210526],\n",
       "        [-0.17894737, -0.31578947,  0.23552632, ...,  0.175     ,\n",
       "         -0.13157895, -0.16052632],\n",
       "        [ 0.12894737,  0.00526316, -0.08684211, ..., -0.02368421,\n",
       "         -0.08157895,  0.40789474]]),\n",
       " 4: array([[-0.03245614,  0.05701754, -0.21315789, ...,  0.03859649,\n",
       "          0.21929825, -0.0377193 ],\n",
       "        [ 0.20438596, -0.15701754,  0.0622807 , ...,  0.08070175,\n",
       "          0.10087719,  0.02368421],\n",
       "        [-0.26315789,  0.07192982,  0.02280702, ..., -0.09298246,\n",
       "         -0.03421053,  0.07368421],\n",
       "        ...,\n",
       "        [ 0.00964912,  0.03245614, -0.02368421, ...,  0.03157895,\n",
       "         -0.11929825,  0.12192982],\n",
       "        [ 0.09736842,  0.05614035,  0.10701754, ...,  0.03333333,\n",
       "          0.0122807 ,  0.00964912],\n",
       "        [-0.18070175,  0.00350877, -0.1245614 , ...,  0.18421053,\n",
       "          0.1122807 , -0.01140351]]),\n",
       " 5: array([[-0.11353383,  0.13458647,  0.06015038, ..., -0.03834586,\n",
       "          0.13082707, -0.0037594 ],\n",
       "        [-0.13909774, -0.09172932, -0.08947368, ...,  0.1406015 ,\n",
       "         -0.05639098,  0.04887218],\n",
       "        [-0.12556391, -0.13834586,  0.03383459, ...,  0.06315789,\n",
       "         -0.12932331,  0.12030075],\n",
       "        ...,\n",
       "        [ 0.12255639,  0.01353383, -0.02030075, ...,  0.12706767,\n",
       "          0.0406015 , -0.00977444],\n",
       "        [ 0.0406015 ,  0.03383459, -0.07969925, ...,  0.11428571,\n",
       "         -0.01804511, -0.06315789],\n",
       "        [ 0.0593985 ,  0.0887218 , -0.07819549, ..., -0.07067669,\n",
       "         -0.0037594 ,  0.11879699]])}"
      ]
     },
     "execution_count": 23,
     "metadata": {},
     "output_type": "execute_result"
    }
   ],
   "source": [
    "Master_d"
   ]
  },
  {
   "cell_type": "code",
   "execution_count": 24,
   "metadata": {},
   "outputs": [],
   "source": [
    "# Find the averages of the master dark frames to make sure that they are positive\n",
    "means = {}\n",
    "for i in range(len(Dfits)):\n",
    "    means[i] = np.mean(Master_d[i])"
   ]
  },
  {
   "cell_type": "code",
   "execution_count": 25,
   "metadata": {},
   "outputs": [
    {
     "data": {
      "text/plain": [
       "{0: 0.14103508906830708,\n",
       " 1: 0.2326941945405613,\n",
       " 2: 0.1721074800290486,\n",
       " 3: 0.06424061258490324,\n",
       " 4: 0.09394010850527576,\n",
       " 5: 0.095557056809652}"
      ]
     },
     "execution_count": 25,
     "metadata": {},
     "output_type": "execute_result"
    }
   ],
   "source": [
    "means"
   ]
  },
  {
   "cell_type": "code",
   "execution_count": 26,
   "metadata": {},
   "outputs": [],
   "source": [
    "## Creating fits files for the darks\n",
    "#for i in range(len(Dfits)):\n",
    "#    hdu = fits.PrimaryHDU(Master_d[i])\n",
    "#    hdul = fits.HDUList([hdu])\n",
    "#    if i == 0:\n",
    "#        hdul.writeto('THROWAWAY_DARK_FRAME.MASTER_DARK.FITS')\n",
    "#    else:\n",
    "#       hdul.writeto('{0}_SECOND_DARK_FRAME.MASTER_DARK.FITS'.format(int(Dexptimes[i])))"
   ]
  },
  {
   "cell_type": "code",
   "execution_count": 27,
   "metadata": {},
   "outputs": [],
   "source": [
    "# Find the science frames' exposure time\n",
    "Exptimes = np.empty(len(Fits))\n",
    "for i in range(len(Fits)):\n",
    "    Exptimes[i] = Fits_open[i][0].header[42]"
   ]
  },
  {
   "cell_type": "code",
   "execution_count": 28,
   "metadata": {},
   "outputs": [
    {
     "data": {
      "text/plain": [
       "array([25., 25., 25., 25., 25., 30., 30., 30., 30., 30., 40., 40., 40.,\n",
       "       40., 40., 60., 60., 60., 60., 60., 70., 70., 70., 70., 70.])"
      ]
     },
     "execution_count": 28,
     "metadata": {},
     "output_type": "execute_result"
    }
   ],
   "source": [
    "Exptimes"
   ]
  },
  {
   "cell_type": "code",
   "execution_count": 29,
   "metadata": {},
   "outputs": [],
   "source": [
    "# Find the master science frames\n",
    "Masters = {}\n",
    "n = 0\n",
    "for i in range(len(Fits)):\n",
    "    if i%5 == 0 and i != 0:\n",
    "        n += 1\n",
    "    else:\n",
    "        pass\n",
    "    n = 0\n",
    "    Dark_Frame = Master_d[n+1]\n",
    "    Masters[i] = (Fits_open[i][0].data - Mbias_data)/Exptimes[i] - Dark_Frame"
   ]
  },
  {
   "cell_type": "code",
   "execution_count": 30,
   "metadata": {},
   "outputs": [
    {
     "data": {
      "text/plain": [
       "{0: array([[1.4 , 1.2 , 0.92, ..., 0.8 , 0.68, 0.84],\n",
       "        [1.44, 0.96, 1.52, ..., 0.6 , 1.44, 1.56],\n",
       "        [0.64, 0.8 , 0.92, ..., 1.36, 0.72, 0.8 ],\n",
       "        ...,\n",
       "        [0.8 , 0.76, 0.88, ..., 0.92, 0.88, 0.88],\n",
       "        [1.04, 0.84, 1.04, ..., 0.24, 1.24, 0.72],\n",
       "        [0.84, 1.28, 1.16, ..., 0.56, 1.28, 0.96]]),\n",
       " 1: array([[ 0.64,  1.44,  0.68, ...,  0.4 ,  0.44,  0.48],\n",
       "        [ 0.64,  0.72,  0.32, ...,  0.2 ,  1.12,  0.4 ],\n",
       "        [ 0.68,  0.92,  1.2 , ...,  1.08,  1.24,  0.4 ],\n",
       "        ...,\n",
       "        [ 0.32,  0.28,  0.48, ...,  1.08,  0.96,  0.56],\n",
       "        [ 0.68, -0.04,  0.88, ...,  0.56,  0.68,  1.24],\n",
       "        [ 0.96,  0.48,  0.76, ...,  1.  ,  0.68,  1.4 ]]),\n",
       " 2: array([[0.4 , 1.08, 0.64, ..., 1.2 , 0.36, 0.96],\n",
       "        [1.  , 0.92, 0.8 , ..., 0.8 , 1.32, 1.08],\n",
       "        [0.88, 1.68, 1.48, ..., 0.92, 1.12, 1.04],\n",
       "        ...,\n",
       "        [0.44, 0.64, 0.64, ..., 1.16, 1.12, 0.92],\n",
       "        [0.88, 0.48, 0.84, ..., 0.44, 1.52, 0.84],\n",
       "        [0.76, 1.08, 0.52, ..., 0.72, 1.  , 1.04]]),\n",
       " 3: array([[ 0.48,  0.36, -0.04, ...,  0.36,  0.24,  0.52],\n",
       "        [ 1.2 ,  0.88,  0.8 , ...,  0.28,  0.64,  0.44],\n",
       "        [ 0.44,  0.2 ,  1.2 , ...,  0.84,  0.84,  0.4 ],\n",
       "        ...,\n",
       "        [ 0.28,  0.44,  0.32, ...,  0.28,  1.08,  0.96],\n",
       "        [ 0.44,  0.52,  0.64, ..., -0.04,  1.08,  0.44],\n",
       "        [ 1.12,  1.24,  0.36, ...,  0.52,  0.04,  0.68]]),\n",
       " 4: array([[ 1.16,  0.52,  1.04, ...,  0.56, -0.08,  0.6 ],\n",
       "        [ 0.36,  0.48,  0.52, ...,  0.08,  0.52,  0.32],\n",
       "        [ 0.84,  1.04,  1.16, ...,  1.04,  1.  ,  1.  ],\n",
       "        ...,\n",
       "        [ 0.32,  0.76, -0.04, ...,  0.6 ,  1.16,  0.88],\n",
       "        [ 0.64,  0.36,  0.88, ...,  0.28,  1.6 ,  0.72],\n",
       "        [ 1.  ,  1.2 ,  1.08, ...,  0.52,  0.32,  1.32]]),\n",
       " 5: array([[0.91298246, 0.84385965, 0.56526316, ..., 0.65789474, 0.53894737,\n",
       "         1.18842105],\n",
       "        [0.71824561, 0.81614035, 0.80175439, ..., 0.32105263, 0.65964912,\n",
       "         0.30385965],\n",
       "        [0.61859649, 0.85122807, 0.75087719, ..., 1.37719298, 1.27368421,\n",
       "         1.01052632],\n",
       "        ...,\n",
       "        [0.19614035, 0.38035088, 0.44280702, ..., 0.60070175, 0.86105263,\n",
       "         0.99122807],\n",
       "        [0.85438596, 0.33754386, 0.89052632, ..., 0.34666667, 0.65508772,\n",
       "         0.73614035],\n",
       "        [1.0122807 , 0.65192982, 0.78315789, ..., 0.39964912, 0.70175439,\n",
       "         1.13122807]]),\n",
       " 6: array([[ 0.31298246,  0.31052632,  0.83192982, ...,  0.45789474,\n",
       "          0.1722807 ,  0.75508772],\n",
       "        [ 1.08491228,  0.34947368,  0.36842105, ..., -0.17894737,\n",
       "          0.59298246,  1.43719298],\n",
       "        [ 0.41859649,  0.45122807,  0.75087719, ...,  0.84385965,\n",
       "          0.77368421,  1.11052632],\n",
       "        ...,\n",
       "        [ 0.12947368,  0.31368421,  0.07614035, ...,  0.63403509,\n",
       "          0.76105263,  0.7245614 ],\n",
       "        [ 0.55438596,  0.53754386,  0.95719298, ...,  0.34666667,\n",
       "          0.95508772,  0.63614035],\n",
       "        [ 0.77894737,  0.71859649,  0.68315789, ...,  0.16631579,\n",
       "          0.60175439,  1.03122807]]),\n",
       " 7: array([[ 0.51298246,  0.51052632,  0.33192982, ...,  0.75789474,\n",
       "          0.2722807 ,  0.65508772],\n",
       "        [ 0.65157895,  0.44947368,  0.50175439, ..., -0.04561404,\n",
       "          0.79298246,  0.70385965],\n",
       "        [ 0.28526316, -0.04877193,  0.81754386, ...,  1.37719298,\n",
       "          1.04035088,  0.34385965],\n",
       "        ...,\n",
       "        [ 0.39614035,  0.34701754,  0.24280702, ...,  0.63403509,\n",
       "          1.06105263,  0.5245614 ],\n",
       "        [ 0.52105263,  0.47087719,  0.62385965, ...,  0.44666667,\n",
       "          0.55508772,  0.76947368],\n",
       "        [ 0.27894737,  0.81859649,  0.48315789, ...,  0.43298246,\n",
       "          0.13508772,  1.0645614 ]]),\n",
       " 8: array([[0.54631579, 0.81052632, 0.56526316, ..., 0.4245614 , 0.33894737,\n",
       "         1.05508772],\n",
       "        [0.68491228, 0.38280702, 0.73508772, ..., 0.4877193 , 0.35964912,\n",
       "         0.63719298],\n",
       "        [0.55192982, 0.75122807, 0.78421053, ..., 1.34385965, 0.90701754,\n",
       "         0.57719298],\n",
       "        ...,\n",
       "        [0.16280702, 0.68035088, 0.54280702, ..., 0.53403509, 0.76105263,\n",
       "         0.49122807],\n",
       "        [0.85438596, 0.37087719, 0.85719298, ..., 0.64666667, 1.05508772,\n",
       "         0.96947368],\n",
       "        [0.74561404, 0.68526316, 0.78315789, ..., 0.53298246, 0.23508772,\n",
       "         0.89789474]]),\n",
       " 9: array([[ 0.34631579,  0.94385965,  0.49859649, ...,  0.29122807,\n",
       "          0.33894737,  0.72175439],\n",
       "        [ 0.21824561,  0.04947368,  0.53508772, ...,  0.32105263,\n",
       "          0.39298246,  0.53719298],\n",
       "        [ 0.45192982,  0.45122807,  0.75087719, ...,  1.14385965,\n",
       "          0.57368421,  0.81052632],\n",
       "        ...,\n",
       "        [-0.40385965,  0.78035088, -0.25719298, ...,  0.66736842,\n",
       "          0.36105263,  0.29122807],\n",
       "        [ 0.65438596,  0.37087719,  0.49052632, ...,  0.11333333,\n",
       "          0.75508772,  0.63614035],\n",
       "        [ 0.7122807 ,  0.48526316,  0.01649123, ...,  0.59964912,\n",
       "          0.36842105,  0.5645614 ]]),\n",
       " 10: array([[ 0.67921053,  0.84868421,  0.47184211, ...,  0.55526316,\n",
       "          0.23763158,  0.69894737],\n",
       "        [ 0.76605263,  0.61131579,  0.45394737, ..., -0.07763158,\n",
       "          0.43421053,  0.40868421],\n",
       "        [ 0.69184211,  0.54026316,  0.76447368, ...,  1.14868421,\n",
       "          0.66578947,  0.47368421],\n",
       "        ...,\n",
       "        [ 0.41631579,  0.55578947, -0.05368421, ...,  0.55157895,\n",
       "          0.63736842,  0.63026316],\n",
       "        [ 0.27236842,  0.03447368,  0.82868421, ..., -0.22      ,\n",
       "          0.79894737,  0.43131579],\n",
       "        [ 0.60263158,  0.61684211,  0.28710526, ...,  0.22421053,\n",
       "          0.37894737,  0.74526316]]),\n",
       " 11: array([[ 0.97921053,  0.62368421,  0.32184211, ...,  0.48026316,\n",
       "          0.26263158,  0.57394737],\n",
       "        [ 0.19105263,  0.58631579,  0.42894737, ..., -0.12763158,\n",
       "          0.55921053,  0.80868421],\n",
       "        [ 0.54184211,  0.66526316,  0.56447368, ...,  0.97368421,\n",
       "          0.89078947,  0.84868421],\n",
       "        ...,\n",
       "        [ 0.26631579,  0.63078947,  0.04631579, ...,  0.35157895,\n",
       "          0.68736842,  0.58026316],\n",
       "        [ 0.59736842,  0.38447368,  0.72868421, ...,  0.055     ,\n",
       "          0.62394737,  0.35631579],\n",
       "        [ 0.30263158,  0.46684211,  0.43710526, ..., -0.12578947,\n",
       "          0.15394737,  0.72026316]]),\n",
       " 12: array([[ 0.60421053,  0.47368421,  0.42184211, ...,  0.18026316,\n",
       "         -0.08736842,  0.52394737],\n",
       "        [ 0.51605263,  0.16131579,  0.67894737, ..., -0.00263158,\n",
       "          0.33421053,  0.55868421],\n",
       "        [ 0.36684211,  0.61526316,  0.68947368, ...,  0.84868421,\n",
       "          0.61578947,  0.42368421],\n",
       "        ...,\n",
       "        [-0.00868421,  0.33078947, -0.10368421, ...,  0.35157895,\n",
       "          0.76236842,  0.78026316],\n",
       "        [ 0.44736842,  0.03447368,  0.45368421, ..., -0.02      ,\n",
       "          0.39894737,  0.35631579],\n",
       "        [ 0.02763158,  0.64184211,  0.48710526, ...,  0.27421053,\n",
       "          0.17894737,  0.74526316]]),\n",
       " 13: array([[ 0.92921053,  0.62368421,  0.72184211, ...,  0.18026316,\n",
       "          0.11263158,  0.52394737],\n",
       "        [ 0.46605263,  0.28631579,  0.40394737, ...,  0.09736842,\n",
       "          0.50921053,  0.23368421],\n",
       "        [ 0.84184211,  0.59026316,  0.88947368, ...,  0.74868421,\n",
       "          0.66578947,  0.72368421],\n",
       "        ...,\n",
       "        [ 0.14131579,  0.38078947, -0.10368421, ...,  0.55157895,\n",
       "          0.43736842,  0.58026316],\n",
       "        [ 0.12236842,  0.03447368,  0.62868421, ...,  0.28      ,\n",
       "          0.82394737,  0.08131579],\n",
       "        [ 0.60263158,  0.49184211,  0.33710526, ...,  0.47421053,\n",
       "          0.00394737,  0.64526316]]),\n",
       " 14: array([[ 0.35421053,  0.64868421,  0.32184211, ...,  0.35526316,\n",
       "          0.28763158,  0.74894737],\n",
       "        [ 0.29105263,  0.36131579,  0.40394737, ..., -0.25263158,\n",
       "          0.43421053,  0.70868421],\n",
       "        [ 0.29184211,  0.34026316,  0.66447368, ...,  1.17368421,\n",
       "          0.69078947,  0.32368421],\n",
       "        ...,\n",
       "        [-0.15868421,  0.15578947, -0.07868421, ...,  0.25157895,\n",
       "          0.48736842,  0.43026316],\n",
       "        [ 0.44736842,  0.13447368,  0.62868421, ..., -0.17      ,\n",
       "          0.64894737,  0.15631579],\n",
       "        [ 0.90263158,  0.36684211,  0.23710526, ...,  0.12421053,\n",
       "          0.12894737,  0.62026316]]),\n",
       " 15: array([[ 0.5454386 ,  0.28684211,  0.22842105, ...,  0.35263158,\n",
       "          0.05298246,  0.45947368],\n",
       "        [ 0.26385965,  0.25649123,  0.60614035, ..., -0.10964912,\n",
       "          0.15877193,  0.44684211],\n",
       "        [ 0.53175439,  0.54596491,  0.72807018, ...,  0.85350877,\n",
       "          0.5745614 ,  0.47017544],\n",
       "        ...,\n",
       "        [ 0.16982456,  0.43122807, -0.18350877, ...,  0.30245614,\n",
       "          0.39701754,  0.43596491],\n",
       "        [ 0.34035088,  0.16473684,  0.65017544, ..., -0.27      ,\n",
       "          0.54280702,  0.50982456],\n",
       "        [ 0.52631579,  0.24842105,  0.3077193 , ...,  0.1654386 ,\n",
       "          0.00614035,  0.40929825]]),\n",
       " 16: array([[ 0.12877193,  0.65350877,  0.22842105, ...,  0.23596491,\n",
       "         -0.11368421,  0.59280702],\n",
       "        [ 0.34719298,  0.23982456,  0.45614035, ...,  0.02368421,\n",
       "          0.44210526,  0.19684211],\n",
       "        [ 0.26508772,  0.57929825,  0.51140351, ...,  0.85350877,\n",
       "          0.6745614 ,  0.48684211],\n",
       "        ...,\n",
       "        [ 0.08649123,  0.04789474, -0.16684211, ...,  0.08578947,\n",
       "          0.29701754,  0.48596491],\n",
       "        [ 0.20701754,  0.03140351,  0.56684211, ..., -0.13666667,\n",
       "          0.42614035,  0.49315789],\n",
       "        [ 0.45964912,  0.66508772,  0.09105263, ...,  0.08210526,\n",
       "          0.12280702,  0.25929825]]),\n",
       " 17: array([[ 0.56210526,  0.53684211,  0.24508772, ...,  0.20263158,\n",
       "         -0.01368421,  0.35947368],\n",
       "        [ 0.26385965,  0.32315789,  0.43947368, ..., -0.04298246,\n",
       "          0.20877193,  0.39684211],\n",
       "        [ 0.38175439,  0.42929825,  0.61140351, ...,  0.83684211,\n",
       "          0.4745614 ,  0.28684211],\n",
       "        ...,\n",
       "        [-0.08017544,  0.53122807, -0.18350877, ...,  0.10245614,\n",
       "          0.29701754,  0.40263158],\n",
       "        [ 0.44035088, -0.03526316,  0.50017544, ..., -0.00333333,\n",
       "          0.42614035,  0.19315789],\n",
       "        [ 0.55964912,  0.38175439,  0.27438596, ..., -0.16789474,\n",
       "         -0.17719298,  0.29263158]]),\n",
       " 18: array([[ 0.62877193,  0.52017544,  0.39508772, ...,  0.36929825,\n",
       "         -0.13035088,  0.64280702],\n",
       "        [ 0.38052632,  0.42315789,  0.40614035, ...,  0.04035088,\n",
       "          0.4754386 ,  0.46350877],\n",
       "        [ 0.56508772,  0.49596491,  0.52807018, ...,  0.87017544,\n",
       "          0.45789474,  0.53684211],\n",
       "        ...,\n",
       "        [-0.14684211,  0.33122807, -0.11684211, ...,  0.23578947,\n",
       "          0.54701754,  0.65263158],\n",
       "        [ 0.64035088, -0.28526316,  0.41684211, ...,  0.01333333,\n",
       "          0.47614035,  0.40982456],\n",
       "        [ 0.39298246,  0.51508772,  0.2077193 , ..., -0.06789474,\n",
       "          0.15614035,  0.29263158]]),\n",
       " 19: array([[ 0.2954386 ,  0.50350877,  0.37842105, ...,  0.31929825,\n",
       "          0.03631579,  0.47614035],\n",
       "        [ 0.39719298,  0.17315789,  0.33947368, ...,  0.04035088,\n",
       "          0.20877193,  0.48017544],\n",
       "        [ 0.48175439,  0.44596491,  0.64473684, ...,  0.65350877,\n",
       "          0.79122807,  0.28684211],\n",
       "        ...,\n",
       "        [ 0.06982456,  0.28122807, -0.18350877, ...,  0.15245614,\n",
       "          0.39701754,  0.50263158],\n",
       "        [ 0.20701754,  0.04807018,  0.53350877, ...,  0.01333333,\n",
       "          0.30947368,  0.34315789],\n",
       "        [ 0.67631579,  0.21508772,  0.32438596, ...,  0.08210526,\n",
       "          0.03947368,  0.45929825]]),\n",
       " 20: array([[ 0.40721805,  0.6406015 ,  0.45172932, ...,  0.29473684,\n",
       "         -0.14977444,  0.6124812 ],\n",
       "        [ 0.31323308,  0.17654135,  0.40676692, ...,  0.15263158,\n",
       "          0.3443609 ,  0.38631579],\n",
       "        [ 0.54315789,  0.46902256,  0.58195489, ...,  0.96917293,\n",
       "          0.71278195,  0.51203008],\n",
       "        ...,\n",
       "        [ 0.11368421,  0.42421053,  0.09368421, ...,  0.24556391,\n",
       "          0.37834586,  0.49473684],\n",
       "        [ 0.29548872,  0.07338346,  0.63488722, ...,  0.00857143,\n",
       "          0.58390977,  0.28225564],\n",
       "        [ 0.39022556,  0.42887218,  0.34932331, ...,  0.32721805,\n",
       "          0.00676692,  0.63473684]]),\n",
       " 21: array([[ 0.45007519,  0.55488722,  0.00887218, ...,  0.20902256,\n",
       "         -0.02120301,  0.56962406],\n",
       "        [ 0.35609023,  0.23368421,  0.42105263, ..., -0.26165414,\n",
       "          0.40150376,  0.28631579],\n",
       "        [ 0.51458647,  0.52616541,  0.61052632, ...,  0.79774436,\n",
       "          0.5556391 ,  0.46917293],\n",
       "        ...,\n",
       "        [ 0.01368421,  0.60992481, -0.10631579, ...,  0.18842105,\n",
       "          0.42120301,  0.38045113],\n",
       "        [ 0.35263158,  0.05909774,  0.53488722, ..., -0.22      ,\n",
       "          0.65533835,  0.25368421],\n",
       "        [ 0.70451128,  0.42887218,  0.33503759, ...,  0.02721805,\n",
       "          0.07819549,  0.57759398]]),\n",
       " 22: array([[ 0.43578947,  0.51203008,  0.20887218, ...,  0.2518797 ,\n",
       "          0.13593985,  0.39819549],\n",
       "        [ 0.31323308, -0.02345865,  0.37819549, ..., -0.04736842,\n",
       "          0.33007519,  0.37203008],\n",
       "        [ 0.37172932,  0.38330827,  0.71052632, ...,  0.8406015 ,\n",
       "          0.66992481,  0.51203008],\n",
       "        ...,\n",
       "        [-0.07203008,  0.15278195, -0.36345865, ...,  0.50270677,\n",
       "          0.26406015,  0.38045113],\n",
       "        [ 0.45263158,  0.14481203,  0.49203008, ..., -0.04857143,\n",
       "          0.48390977,  0.31082707],\n",
       "        [ 0.34736842,  0.21458647,  0.19218045, ...,  0.01293233,\n",
       "         -0.1075188 ,  0.56330827]]),\n",
       " 23: array([[ 0.55007519,  0.45488722,  0.29458647, ...,  0.1518797 ,\n",
       "          0.22165414,  0.64105263],\n",
       "        [ 0.24180451,  0.33368421,  0.4924812 , ..., -0.17593985,\n",
       "          0.35864662,  0.5006015 ],\n",
       "        [ 0.44315789,  0.49759398,  0.61052632, ...,  0.89774436,\n",
       "          0.62706767,  0.25488722],\n",
       "        ...,\n",
       "        [-0.07203008,  0.20992481,  0.03654135, ...,  0.01699248,\n",
       "          0.44977444,  0.13759398],\n",
       "        [ 0.23834586,  0.15909774,  0.53488722, ...,  0.08      ,\n",
       "          0.56962406,  0.28225564],\n",
       "        [ 0.57593985,  0.27172932,  0.29218045, ..., -0.02992481,\n",
       "         -0.12180451,  0.40616541]]),\n",
       " 24: array([[ 0.4643609 ,  0.42631579,  0.30887218, ...,  0.33759398,\n",
       "         -0.10691729,  0.59819549],\n",
       "        [ 0.15609023,  0.23368421,  0.36390977, ..., -0.20451128,\n",
       "          0.41578947,  0.72917293],\n",
       "        [ 0.40030075,  0.59759398,  0.5962406 , ...,  0.86917293,\n",
       "          0.54135338,  0.4406015 ],\n",
       "        ...,\n",
       "        [-0.08631579,  0.20992481, -0.3206015 , ...,  0.10270677,\n",
       "          0.49263158,  0.48045113],\n",
       "        [ 0.39548872, -0.19804511,  0.53488722, ...,  0.00857143,\n",
       "          0.55533835,  0.32511278],\n",
       "        [ 0.51879699,  0.51458647,  0.27789474, ..., -0.00135338,\n",
       "          0.16390977,  0.46330827]])}"
      ]
     },
     "execution_count": 30,
     "metadata": {},
     "output_type": "execute_result"
    }
   ],
   "source": [
    "Masters"
   ]
  },
  {
   "cell_type": "code",
   "execution_count": 31,
   "metadata": {},
   "outputs": [],
   "source": [
    "Mmeans = {}\n",
    "Mins = {}\n",
    "Maxes = {}\n",
    "for i in Masters:\n",
    "    Mmeans[i] = np.mean(Masters[i])\n",
    "    Mins[i] = np.min(Masters[i])\n",
    "    Maxes[i] = np.max(Masters[i])"
   ]
  },
  {
   "cell_type": "code",
   "execution_count": 32,
   "metadata": {},
   "outputs": [
    {
     "data": {
      "text/plain": [
       "{0: 0.820711111111111,\n",
       " 1: 0.6649247725233884,\n",
       " 2: 0.8409561450724081,\n",
       " 3: 0.5631644239395104,\n",
       " 4: 0.677281865948994,\n",
       " 5: 0.7055245247554357,\n",
       " 6: 0.5229431244393182,\n",
       " 7: 0.5041536844803279,\n",
       " 8: 0.5422252808748772,\n",
       " 9: 0.4386166688025973,\n",
       " 10: 0.44445267204921174,\n",
       " 11: 0.4439013456362937,\n",
       " 12: 0.37553616557734204,\n",
       " 13: 0.3427508266051518,\n",
       " 14: 0.32568860694604634,\n",
       " 15: 0.288277867486864,\n",
       " 16: 0.28803279080695454,\n",
       " 17: 0.29501356743132984,\n",
       " 18: 0.2721434747319407,\n",
       " 19: 0.26002134221880474,\n",
       " 20: 0.3026050859559511,\n",
       " 21: 0.2603053111440654,\n",
       " 22: 0.26150448362351475,\n",
       " 23: 0.246051452737958,\n",
       " 24: 0.24864258069240774}"
      ]
     },
     "execution_count": 32,
     "metadata": {},
     "output_type": "execute_result"
    }
   ],
   "source": [
    "Mmeans"
   ]
  },
  {
   "cell_type": "code",
   "execution_count": 33,
   "metadata": {},
   "outputs": [
    {
     "data": {
      "text/plain": [
       "{0: -27.160000000000025,\n",
       " 1: -8.2,\n",
       " 2: -6.0,\n",
       " 3: -5.399999999999999,\n",
       " 4: -8.08,\n",
       " 5: -84.11157894736846,\n",
       " 6: -82.67824561403518,\n",
       " 7: -79.8449122807018,\n",
       " 8: -83.17824561403518,\n",
       " 9: -80.97824561403513,\n",
       " 10: -203.60105263157902,\n",
       " 11: -204.501052631579,\n",
       " 12: -203.80105263157895,\n",
       " 13: -206.751052631579,\n",
       " 14: -203.52605263157898,\n",
       " 15: -346.69052631578955,\n",
       " 16: -348.5738596491229,\n",
       " 17: -346.0738596491229,\n",
       " 18: -347.7571929824562,\n",
       " 19: -347.4571929824562,\n",
       " 20: -392.40180451127827,\n",
       " 21: -392.2875187969925,\n",
       " 22: -393.3589473684211,\n",
       " 23: -392.7875187969925,\n",
       " 24: -392.98751879699256}"
      ]
     },
     "execution_count": 33,
     "metadata": {},
     "output_type": "execute_result"
    }
   ],
   "source": [
    "Mins"
   ]
  },
  {
   "cell_type": "code",
   "execution_count": 34,
   "metadata": {},
   "outputs": [
    {
     "data": {
      "text/plain": [
       "{0: 48.31999999999999,\n",
       " 1: 75.19999999999999,\n",
       " 2: 48.760000000000005,\n",
       " 3: 50.03999999999999,\n",
       " 4: 48.64,\n",
       " 5: 46.48105263157895,\n",
       " 6: 46.68105263157895,\n",
       " 7: 47.21438596491228,\n",
       " 8: 46.447719298245616,\n",
       " 9: 48.08105263157894,\n",
       " 10: 44.157368421052624,\n",
       " 11: 45.082368421052635,\n",
       " 12: 44.98236842105263,\n",
       " 13: 45.68236842105263,\n",
       " 14: 45.207368421052635,\n",
       " 15: 42.0836842105263,\n",
       " 16: 41.80035087719297,\n",
       " 17: 41.01701754385964,\n",
       " 18: 41.50035087719297,\n",
       " 19: 40.26701754385964,\n",
       " 20: 35.967067669172934,\n",
       " 21: 35.90992481203007,\n",
       " 22: 35.60992481203007,\n",
       " 23: 34.90992481203007,\n",
       " 24: 35.20992481203008}"
      ]
     },
     "execution_count": 34,
     "metadata": {},
     "output_type": "execute_result"
    }
   ],
   "source": [
    "Maxes"
   ]
  },
  {
   "cell_type": "code",
   "execution_count": 35,
   "metadata": {},
   "outputs": [],
   "source": [
    "Seconds = np.empty(len(Mmeans))\n",
    "for i in range(len(Seconds)):\n",
    "    Seconds[i] = float((Fits_open[i][0].header[14])[3:5])*60 + float((Fits_open[i][0].header[14])[6:12]) - float((Fits_open[0][0].header[14])[3:5])*60 + float((Fits_open[0][0].header[14])[6:12])"
   ]
  },
  {
   "cell_type": "code",
   "execution_count": 36,
   "metadata": {
    "scrolled": false
   },
   "outputs": [
    {
     "data": {
      "image/png": "[encoded data removed]",
      "text/plain": [
       "<Figure size 1008x504 with 1 Axes>"
      ]
     },
     "metadata": {
      "needs_background": "light"
     },
     "output_type": "display_data"
    }
   ],
   "source": [
    "Master_arr = np.empty(len(Mmeans))\n",
    "counter = 0\n",
    "for i in Mmeans:\n",
    "    Master_arr[i]=Mmeans[i]\n",
    "plt.figure(figsize=(14,7))\n",
    "plt.plot(Seconds,Master_arr,'bo')\n",
    "plt.xlabel('Time image taken(seconds)')\n",
    "plt.ylabel('Mean counts of master science frame')\n",
    "plt.title('Time vs. Mean Counts',{'fontsize':'20'})\n",
    "plt.savefig('Cvt',bbox='tight');"
   ]
  },
  {
   "cell_type": "code",
   "execution_count": 37,
   "metadata": {},
   "outputs": [],
   "source": [
    "# Creating fits files for the lights\n",
    "n = 1\n",
    "for i in range(len(Fits)):\n",
    "    if i != 0:\n",
    "        if Exptimes[i] == Exptimes[i-1]:\n",
    "            n += 1\n",
    "        else:\n",
    "            n = 1\n",
    "    else:\n",
    "        pass\n",
    "    hdu = fits.PrimaryHDU(Masters[i])\n",
    "    hdul = fits.HDUList([hdu])\n",
    "    #hdul.writeto('{0}_SECOND_SCIENCE_FRAME_{1}.MASTER_SCIENCE.FITS'.format(int(Exptimes[i]),n))"
   ]
  },
  {
   "cell_type": "code",
   "execution_count": 38,
   "metadata": {},
   "outputs": [],
   "source": [
    "# Define a couple functions for finding uncertainties\n",
    "def Mult_Unc(Final,Start1,Unc_Start1,Start2,Unc_Start2):\n",
    "    Safe_Start1 = Start1\n",
    "    Safe_Start2 = Start2\n",
    "    Safe_Unc1 = Unc_Start1\n",
    "    Safe_Unc2 = Unc_Start2\n",
    "    counter1 = 0\n",
    "    counter2 = 0\n",
    "    if(type(Start1)==np.ndarray):\n",
    "        for i in range(len(Start1)):\n",
    "            if Start1[i]==0:\n",
    "                np.delete(Safe_Start1,i-counter1)\n",
    "                np.delete(Safe_Unc1,i-counter1)\n",
    "                counter1 += 1\n",
    "            else:\n",
    "                pass\n",
    "    if(type(Start2)==np.ndarray):\n",
    "        for i in range(len(Start2)):\n",
    "            if Start2[i]==0:\n",
    "                np.delete(Safe_Start2,i-counter2)\n",
    "                np.delete(Safe_Unc2,i-counter2)\n",
    "                counter2 += 1\n",
    "            else:\n",
    "                pass\n",
    "    Unc = Final*np.sqrt((Unc_Start1/Safe_Start1)**2 + (Unc_Start2/Safe_Start2)**2)\n",
    "    return Unc\n",
    "\n",
    "def Add_Unc(Start1,Start2):\n",
    "    Unc = np.sqrt(Start1**2 + Start2**2)\n",
    "    return Unc\n",
    "\n",
    "def Mean_Unc(Uncs):\n",
    "    Safe_Uncs = Uncs\n",
    "    counter=0\n",
    "    if(type(Uncs)==np.ndarray):\n",
    "        for i in range(len(Uncs)):\n",
    "            if Uncs[i]==0:\n",
    "                np.delete(Uncs,i-counter)\n",
    "                counter+=1\n",
    "            else:\n",
    "                pass\n",
    "    if(type(Uncs)==(int or np.int)):\n",
    "        if Uncs==0:\n",
    "            Unc = 0\n",
    "            return Unc\n",
    "    Unc = 1/np.sqrt(np.sum(1/(Uncs**2)))\n",
    "    return Unc"
   ]
  },
  {
   "cell_type": "code",
   "execution_count": 63,
   "metadata": {},
   "outputs": [],
   "source": [
    "# Find the uncertainty of the pixels and the slopes\n",
    "Unc_Master = np.empty(len(Masters))\n",
    "Unc_Log_Master = np.empty(len(Masters))\n",
    "Stds = np.empty(len(Masters))\n",
    "for i in Masters:\n",
    "    Stds[i] = np.std(Masters[i])\n",
    "    Unc_Master[i] = Stds[i]/Exptimes[i]\n",
    "    Unc_Log_Master[i] = .43*Unc_Master[i]/np.mean(Masters[i])"
   ]
  },
  {
   "cell_type": "code",
   "execution_count": 64,
   "metadata": {
    "scrolled": true
   },
   "outputs": [
    {
     "name": "stderr",
     "output_type": "stream",
     "text": [
      "C:\\Users\\hitom\\Anaconda3\\envs\\bash\\lib\\site-packages\\ipykernel_launcher.py:46: RuntimeWarning: divide by zero encountered in true_divide\n"
     ]
    },
    {
     "data": {
      "text/plain": [
       "(-0.000858377521014029,\n",
       " -0.394926093840425,\n",
       " 7.960096691298792e-06,\n",
       " 0.005342447331838907)"
      ]
     },
     "execution_count": 64,
     "metadata": {},
     "output_type": "execute_result"
    }
   ],
   "source": [
    "# Create a line of best fit with uncertainties\n",
    "\n",
    "def best_fit_slope_and_intercept(xs,ys,Uxs,Uys):\n",
    "    m = (((np.mean(xs)*np.mean(ys)) - np.mean(xs*ys)) /\n",
    "         ((np.mean(xs)*np.mean(xs)) - np.mean(xs*xs)))\n",
    "    \n",
    "    xs_ys_Unc = Mult_Unc(np.mean(xs)*np.mean(ys),np.mean(xs),Mean_Unc(Uxs),np.mean(ys),Mean_Unc(Uys))\n",
    "    \n",
    "    Top_Unc = Add_Unc(xs_ys_Unc,Mean_Unc(Mult_Unc(xs*ys,xs,Uxs,ys,Uys)))\n",
    "    \n",
    "    xs_xs_Unc = Mult_Unc(np.mean(xs)*np.mean(xs),np.mean(xs),Mean_Unc(Uxs),np.mean(xs),Mean_Unc(Uxs))\n",
    "    \n",
    "    Bot_Unc = Add_Unc(xs_xs_Unc,Mean_Unc(Mult_Unc(xs*xs,xs,Uxs,xs,Uxs)))\n",
    "    \n",
    "    m_Unc = Mult_Unc(np.abs(m),((np.mean(xs)*np.mean(ys)) - np.mean(xs*ys)),xs_ys_Unc,((np.mean(xs)*np.mean(xs)) - np.mean(xs*xs)),Bot_Unc)\n",
    "    \n",
    "    b = np.mean(ys) - m*np.mean(xs)\n",
    "    \n",
    "    b_Unc = Add_Unc(Mean_Unc(Uys),Mult_Unc(m*np.mean(xs),m,m_Unc,np.mean(xs),Mean_Unc(Uxs)))\n",
    "    \n",
    "    return m, b, m_Unc, b_Unc\n",
    "\n",
    "m, b, m_Unc, b_Unc = best_fit_slope_and_intercept(Seconds,np.log(Master_arr),0,Unc_Log_Master)\n",
    "x = np.arange(min(Seconds),max(Seconds))\n",
    "m,b,m_Unc,b_Unc"
   ]
  },
  {
   "cell_type": "code",
   "execution_count": 73,
   "metadata": {
    "scrolled": false
   },
   "outputs": [
    {
     "data": {
      "image/png": "[encoded data removed]",
      "text/plain": [
       "<Figure size 1008x504 with 1 Axes>"
      ]
     },
     "metadata": {
      "needs_background": "light"
     },
     "output_type": "display_data"
    }
   ],
   "source": [
    "plt.figure(figsize=(14,7))\n",
    "plt.errorbar(Seconds,np.log(Master_arr),yerr=Unc_Log_Master,fmt='bo',label='Data Points')\n",
    "plt.plot(m*x + b,'r',label='Line of Best Fit')\n",
    "plt.xlabel('Time image taken(seconds)')\n",
    "plt.ylabel('Ln of Mean counts of master science frame')\n",
    "plt.title('Time vs. Ln Mean Counts',{'fontsize':'20'})\n",
    "plt.legend(prop={'size':'12'})\n",
    "plt.text(700,(max(np.log(Master_arr))+min(np.log(Master_arr)))/2,'x = ({0})x+({1})'.format(np.format_float_scientific(m,precision=3),np.round(b,3)),fontsize=12);"
   ]
  },
  {
   "cell_type": "code",
   "execution_count": 66,
   "metadata": {},
   "outputs": [],
   "source": [
    "# Toss the images containing white streaks to optimize data accuracy\n",
    "Masker = np.zeros(len(Master_arr))\n",
    "Masker[40-35] = 1\n",
    "Masker[41-35] = 1\n",
    "Masker[51-35] = 1\n",
    "Masker[52-35] = 1\n",
    "Masker[57-35] = 1\n",
    "Masked_Master = ma.array(Master_arr,mask=Masker)\n",
    "Log_Masked_Master = np.log(Masked_Master)\n",
    "Masked_Unc = ma.array(Unc_Log_Master,mask=Masker)"
   ]
  },
  {
   "cell_type": "code",
   "execution_count": 67,
   "metadata": {},
   "outputs": [
    {
     "name": "stderr",
     "output_type": "stream",
     "text": [
      "C:\\Users\\hitom\\Anaconda3\\envs\\bash\\lib\\site-packages\\ipykernel_launcher.py:46: RuntimeWarning: divide by zero encountered in true_divide\n"
     ]
    },
    {
     "data": {
      "text/plain": [
       "(-0.0007867485823965754,\n",
       " -0.42441749743737966,\n",
       " 8.834650375385099e-06,\n",
       " 0.005929407161259575)"
      ]
     },
     "execution_count": 67,
     "metadata": {},
     "output_type": "execute_result"
    }
   ],
   "source": [
    "# Create new best fit parameters\n",
    "m2, b2, m2_Unc, b2_Unc = best_fit_slope_and_intercept(Seconds,Log_Masked_Master,0,Masked_Unc)\n",
    "x = np.arange(min(Seconds),max(Seconds))\n",
    "m2,b2,m2_Unc,b2_Unc"
   ]
  },
  {
   "cell_type": "code",
   "execution_count": 72,
   "metadata": {},
   "outputs": [
    {
     "data": {
      "image/png": "[encoded data removed]",
      "text/plain": [
       "<Figure size 1008x504 with 1 Axes>"
      ]
     },
     "metadata": {
      "needs_background": "light"
     },
     "output_type": "display_data"
    }
   ],
   "source": [
    "# Graph the masked array\n",
    "plt.figure(figsize=(14,7))\n",
    "plt.errorbar(Seconds,Log_Masked_Master,yerr=Masked_Unc,fmt='bo',label='Data Points')\n",
    "plt.plot(m2*x + b2,'r',label='Line of Best Fit')\n",
    "plt.xlabel('Time image taken(seconds)')\n",
    "plt.ylabel('Ln of Mean counts of master science frame')\n",
    "plt.title('Time vs. Ln Mean Counts',{'fontsize':'20'})\n",
    "plt.legend(prop={'size':'12'})\n",
    "plt.text(700,(max(Log_Masked_Master)+min(Log_Masked_Master))/2,'x = ({0})x+({1})'.format(np.format_float_scientific(m2,precision=3),np.round(b2,3)),fontsize=12)\n",
    "plt.savefig('Masked_Ln_Graph.png',bbox='tight');"
   ]
  },
  {
   "cell_type": "code",
   "execution_count": 69,
   "metadata": {},
   "outputs": [
    {
     "data": {
      "text/plain": [
       "array([[121, 122, 123, ..., 108, 115,  96],\n",
       "       [122, 135, 120, ..., 113,  98, 118],\n",
       "       [124, 134, 133, ..., 101, 107, 103],\n",
       "       ...,\n",
       "       [128, 118, 126, ..., 109, 107, 102],\n",
       "       [125, 140, 127, ...,  96, 108,  99],\n",
       "       [130, 128, 130, ..., 108, 102, 107]], dtype=uint16)"
      ]
     },
     "execution_count": 69,
     "metadata": {},
     "output_type": "execute_result"
    }
   ],
   "source": [
    "Bfits_open[0][0].data"
   ]
  },
  {
   "cell_type": "code",
   "execution_count": 70,
   "metadata": {},
   "outputs": [],
   "source": [
    "RawBMeans = np.zeros(len(Bfits_open))\n",
    "RawBMins = np.zeros(len(Bfits_open))\n",
    "RawBMaxes = np.zeros(len(Bfits_open))\n",
    "for i in Bfits_open:\n",
    "    RawBMeans[i] = np.mean(Bfits_open[i][0].data)\n",
    "    RawBMins[i] = np.min(Bfits_open[i][0].data)\n",
    "    RawBMaxes[i] = np.max(Bfits_open[i][0].data)\n",
    "SigB = np.sqrt(RawBMeans)"
   ]
  },
  {
   "cell_type": "code",
   "execution_count": 71,
   "metadata": {},
   "outputs": [
    {
     "data": {
      "text/plain": [
       "array([108.72151224, 108.19991798, 104.21640138, 108.07484557,\n",
       "       108.98751506, 108.26328848, 110.53115468, 105.81273869,\n",
       "       107.90990132, 104.06992695, 106.28789184, 107.83108035,\n",
       "       107.12814559, 106.17311291, 107.21770601, 105.53739075,\n",
       "       110.60812252, 107.71247725, 110.51241574])"
      ]
     },
     "execution_count": 71,
     "metadata": {},
     "output_type": "execute_result"
    }
   ],
   "source": [
    "RawBMeans"
   ]
  },
  {
   "cell_type": "code",
   "execution_count": 48,
   "metadata": {},
   "outputs": [
    {
     "data": {
      "text/plain": [
       "array([77., 77., 73., 75., 76., 76., 73., 69., 73., 71., 78., 75., 72.,\n",
       "       75., 76., 75., 79., 75., 76.])"
      ]
     },
     "execution_count": 48,
     "metadata": {},
     "output_type": "execute_result"
    }
   ],
   "source": [
    "RawBMins"
   ]
  },
  {
   "cell_type": "code",
   "execution_count": 49,
   "metadata": {},
   "outputs": [
    {
     "data": {
      "text/plain": [
       "array([720., 740., 732., 741., 764., 722., 708., 760., 750., 732., 756.,\n",
       "       750., 698., 719., 698., 704., 762., 732., 782.])"
      ]
     },
     "execution_count": 49,
     "metadata": {},
     "output_type": "execute_result"
    }
   ],
   "source": [
    "RawBMaxes"
   ]
  },
  {
   "cell_type": "code",
   "execution_count": 50,
   "metadata": {},
   "outputs": [
    {
     "data": {
      "text/plain": [
       "array([10.42696083, 10.40191896, 10.20864346, 10.39590523, 10.43970857,\n",
       "       10.40496461, 10.51337979, 10.28653191, 10.38796907, 10.2014669 ,\n",
       "       10.30960192, 10.38417451, 10.35027273, 10.30403382, 10.3545983 ,\n",
       "       10.27313928, 10.51703963, 10.37846218, 10.51248856])"
      ]
     },
     "execution_count": 50,
     "metadata": {},
     "output_type": "execute_result"
    }
   ],
   "source": [
    "SigB"
   ]
  },
  {
   "cell_type": "code",
   "execution_count": 51,
   "metadata": {},
   "outputs": [],
   "source": [
    "RawDMeans = np.zeros(len(Dfits_open))\n",
    "RawDMins = np.zeros(len(Dfits_open))\n",
    "RawDMaxes = np.zeros(len(Dfits_open))\n",
    "for i in Dfits_open:\n",
    "    RawDMeans[i] = np.mean(Dfits_open[i][0].data)\n",
    "    RawDMins[i] = np.min(Dfits_open[i][0].data)\n",
    "    RawDMaxes[i] = np.max(Dfits_open[i][0].data)\n",
    "SigD = np.sqrt(RawDMeans)"
   ]
  },
  {
   "cell_type": "code",
   "execution_count": 52,
   "metadata": {},
   "outputs": [
    {
     "data": {
      "text/plain": [
       "array([111.09406382, 113.38554146, 112.731411  , 110.1378111 ,\n",
       "       113.20459311, 114.25718057])"
      ]
     },
     "execution_count": 52,
     "metadata": {},
     "output_type": "execute_result"
    }
   ],
   "source": [
    "RawDMeans"
   ]
  },
  {
   "cell_type": "code",
   "execution_count": 53,
   "metadata": {},
   "outputs": [
    {
     "data": {
      "text/plain": [
       "array([79., 77., 77., 75., 75., 77.])"
      ]
     },
     "execution_count": 53,
     "metadata": {},
     "output_type": "execute_result"
    }
   ],
   "source": [
    "RawDMins"
   ]
  },
  {
   "cell_type": "code",
   "execution_count": 54,
   "metadata": {},
   "outputs": [
    {
     "data": {
      "text/plain": [
       "array([21742., 21672., 23332., 25963., 30043., 33784.])"
      ]
     },
     "execution_count": 54,
     "metadata": {},
     "output_type": "execute_result"
    }
   ],
   "source": [
    "RawDMaxes"
   ]
  },
  {
   "cell_type": "code",
   "execution_count": 55,
   "metadata": {},
   "outputs": [
    {
     "data": {
      "text/plain": [
       "array([10.54011688, 10.64826472, 10.61750493, 10.49465631, 10.63976471,\n",
       "       10.68911505])"
      ]
     },
     "execution_count": 55,
     "metadata": {},
     "output_type": "execute_result"
    }
   ],
   "source": [
    "SigD"
   ]
  },
  {
   "cell_type": "code",
   "execution_count": 56,
   "metadata": {},
   "outputs": [],
   "source": [
    "RawMeans = np.zeros(len(Fits_open))\n",
    "RawMins = np.zeros(len(Fits_open))\n",
    "RawMaxes = np.zeros(len(Fits_open))\n",
    "for i in Fits_open:\n",
    "    RawMeans[i] = np.mean(Fits_open[i][0].data)\n",
    "    RawMins[i] = np.min(Fits_open[i][0].data)\n",
    "    RawMaxes[i] = np.max(Fits_open[i][0].data)\n",
    "Sig = np.sqrt(RawMeans)"
   ]
  },
  {
   "cell_type": "code",
   "execution_count": 57,
   "metadata": {},
   "outputs": [
    {
     "data": {
      "text/plain": [
       "array([133.90331924, 130.00866077, 134.40944509, 127.46465206,\n",
       "       130.31758811, 135.71474817, 130.23730616, 129.67362297,\n",
       "       130.81577086, 127.7075125 , 134.65406126, 134.6320082 ,\n",
       "       131.897401  , 130.58598744, 129.90349865, 138.82651032,\n",
       "       138.81180572, 139.23065231, 137.85844675, 137.1311188 ,\n",
       "       145.03913623, 142.07815199, 142.16209407, 141.0803819 ,\n",
       "       141.26176086])"
      ]
     },
     "execution_count": 57,
     "metadata": {},
     "output_type": "execute_result"
    }
   ],
   "source": [
    "RawMeans"
   ]
  },
  {
   "cell_type": "code",
   "execution_count": 58,
   "metadata": {},
   "outputs": [
    {
     "data": {
      "text/plain": [
       "array([ 95.,  93., 100.,  90.,  94.,  98.,  93.,  95.,  95.,  91.,  96.,\n",
       "        98.,  92.,  90.,  94., 100.,  96.,  96.,  95.,  96., 105.,  99.,\n",
       "       100.,  94.,  94.])"
      ]
     },
     "execution_count": 58,
     "metadata": {},
     "output_type": "execute_result"
    }
   ],
   "source": [
    "RawMins"
   ]
  },
  {
   "cell_type": "code",
   "execution_count": 59,
   "metadata": {},
   "outputs": [
    {
     "data": {
      "text/plain": [
       "array([21705., 21734., 21762., 21754., 21845., 23336., 23379., 23464.,\n",
       "       23364., 23430., 26090., 26054., 26082., 25964., 26093., 30182.,\n",
       "       30069., 30219., 30118., 30136., 33685., 33902., 33796., 33691.,\n",
       "       33894.])"
      ]
     },
     "execution_count": 59,
     "metadata": {},
     "output_type": "execute_result"
    }
   ],
   "source": [
    "RawMaxes"
   ]
  },
  {
   "cell_type": "code",
   "execution_count": 60,
   "metadata": {},
   "outputs": [
    {
     "data": {
      "text/plain": [
       "array([11.57166018, 11.40213404, 11.59350875, 11.29002445, 11.41567292,\n",
       "       11.6496673 , 11.41215607, 11.38743268, 11.43747222, 11.30077486,\n",
       "       11.60405366, 11.60310339, 11.48465938, 11.42742261, 11.3975216 ,\n",
       "       11.78246622, 11.7818422 , 11.7996039 , 11.74131367, 11.71029969,\n",
       "       12.04321951, 11.91965402, 11.92317466, 11.87772629, 11.8853591 ])"
      ]
     },
     "execution_count": 60,
     "metadata": {},
     "output_type": "execute_result"
    }
   ],
   "source": [
    "Sig"
   ]
  },
  {
   "cell_type": "code",
   "execution_count": null,
   "metadata": {},
   "outputs": [],
   "source": []
  },
  {
   "cell_type": "code",
   "execution_count": 61,
   "metadata": {},
   "outputs": [],
   "source": [
    "Masked_Seconds = ma.array(Seconds,mask=Masker)"
   ]
  },
  {
   "cell_type": "code",
   "execution_count": 62,
   "metadata": {},
   "outputs": [
    {
     "data": {
      "text/plain": [
       "Power_divergenceResult(statistic=-0.6377682522729677, pvalue=1.0)"
      ]
     },
     "execution_count": 62,
     "metadata": {},
     "output_type": "execute_result"
    }
   ],
   "source": [
    "cs(Log_Masked_Master,f_exp=(m2*Masked_Seconds + b2))"
   ]
  },
  {
   "cell_type": "code",
   "execution_count": null,
   "metadata": {},
   "outputs": [],
   "source": []
  }
 ],
 "metadata": {
  "kernelspec": {
   "display_name": "Python 3",
   "language": "python",
   "name": "python3"
  },
  "language_info": {
   "codemirror_mode": {
    "name": "ipython",
    "version": 3
   },
   "file_extension": ".py",
   "mimetype": "text/x-python",
   "name": "python",
   "nbconvert_exporter": "python",
   "pygments_lexer": "ipython3",
   "version": "3.6.6"
  }
 },
 "nbformat": 4,
 "nbformat_minor": 2
}
