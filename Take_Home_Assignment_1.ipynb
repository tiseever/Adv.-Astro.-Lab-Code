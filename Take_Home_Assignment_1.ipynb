{
 "cells": [
  {
   "cell_type": "code",
   "execution_count": null,
   "metadata": {},
   "outputs": [],
   "source": [
    "from __future__ import print_function, absolute_import, division, unicode_literals\n",
    "import numpy as np\n",
    "import matplotlib.pyplot as plt\n",
    "%matplotlib inline"
   ]
  },
  {
   "cell_type": "markdown",
   "metadata": {},
   "source": [
    "## Take-Home Assignment 1"
   ]
  },
  {
   "cell_type": "code",
   "execution_count": null,
   "metadata": {},
   "outputs": [],
   "source": [
    "# This will be the function that overplots the histogram with a Gaussian\n",
    "def Gaussian(array,binsize):\n",
    "    \n",
    "    # This will create the list of bins with the defined binsize with an\n",
    "    # exception that an array with no variance will only have 1 bin since\n",
    "    # all the data is at a single point\n",
    "    bins = [min(array)]\n",
    "    if (max(array)-min(array)) == 0:\n",
    "        bins=1\n",
    "    else:\n",
    "        for n in range(int((max(array)-min(array))/binsize)+1):\n",
    "            bins.append(min(array)+n*binsize)\n",
    "    \n",
    "    # This will plot the normalized histogram with the given binsize\n",
    "    plt.figure(figsize=(7,7))\n",
    "    plt.hist(array,bins=bins,density=True)\n",
    "    \n",
    "    # This defines the parameters for the gaussian distribution\n",
    "    mu = np.mean(arr)\n",
    "    sigma = np.sqrt(np.sum((arr-np.mean(arr))**2)/len(arr))\n",
    "    variance = sigma**2\n",
    "    \n",
    "    # This is a variable x that will change based on the size of the array\n",
    "    x = np.linspace(min(array),max(array),10*int(max(array)-min(array)))\n",
    "    \n",
    "    # This is the equation for the Gaussian distribution\n",
    "    Gaussian = (1/np.sqrt(2*np.pi*variance))*np.exp(-((x-mu)**2)/(2*variance))\n",
    "    \n",
    "    # This plots the Gaussian distribution\n",
    "    plt.plot(x,Gaussian)\n",
    "    \n",
    "    # These are just additional labels for the plot\n",
    "    plt.xlim(min(bins),max(bins))\n",
    "    plt.ylabel('Percentage of total data points within bin')\n",
    "    plt.xlabel('Value of number')\n",
    "    plt.title('Histogram of Given array with Gaussian Overlayed',{'fontsize':20})\n",
    "    \n",
    "    # This creates the saved .png file of the graph\n",
    "    plt.savefig('Gaussian Overlayed on Histogram.png',bbox='tight')"
   ]
  },
  {
   "cell_type": "code",
   "execution_count": null,
   "metadata": {
    "scrolled": true
   },
   "outputs": [],
   "source": [
    "# This generates an array of 1000 normally distributed numbers with\n",
    "# a mean of 1 and an RMS of 2\n",
    "arr = np.random.normal(1,2,1000)\n",
    "Gaussian(arr,0.1)"
   ]
  },
  {
   "cell_type": "markdown",
   "metadata": {},
   "source": [
    "## Extra Credit"
   ]
  },
  {
   "cell_type": "code",
   "execution_count": null,
   "metadata": {},
   "outputs": [],
   "source": [
    "# Generate 500 random integers between 1 and 100\n",
    "rand = np.random.randint(1,101,500,dtype=int)"
   ]
  },
  {
   "cell_type": "code",
   "execution_count": null,
   "metadata": {},
   "outputs": [],
   "source": [
    "# Find the modes of the rand distribution by logging the counts\n",
    "# into an array and finding the indices at which the counts array\n",
    "# has a maximum. The indices n+1 of the maxima will be the modes of\n",
    "# the rand array.\n",
    "counts = np.zeros(100)\n",
    "for n in range(100):\n",
    "    for j in range(len(rand)):\n",
    "        if rand[j] == n:\n",
    "            counts[n] += 1\n",
    "        else:\n",
    "            continue\n",
    "            \n",
    "modes = []\n",
    "# This records the values of the mode in the modes list\n",
    "for n in range(len(counts)):\n",
    "    if counts[n] == max(counts):\n",
    "        modes.append(n+1)\n",
    "\n",
    "# This converts the modes list to an array so it is compatible\n",
    "# with the method used in the print function.\n",
    "modesarr = np.asarray(modes)\n",
    "        \n",
    "# This prints all of the modes in the array and their frequencies\n",
    "print('Modes = {0}, Frequencies = {1}'.format(modes,counts[modesarr-1][0]))\n",
    "\n",
    "# This calculates the mean number of counts so that the Poisson probability\n",
    "# can be calculated.\n",
    "mcounts = np.mean(counts)\n",
    "\n",
    "# This function finds the Poisson probability of an event occuring k times\n",
    "# with a mean number of counts mc. Note that k must be an integer.\n",
    "def PoiProb(mc,k):\n",
    "    k_fac = 1\n",
    "    # This finds the factorial of k as k_fac.\n",
    "    for i in range(int(k)):\n",
    "        k_fac = k_fac*(i+1)\n",
    "    # This is the Poisson probability\n",
    "    Prob = (mc**k)*np.exp(-mc)/k_fac\n",
    "    return Prob\n",
    "\n",
    "# Since the probability of counts[modesarr-1] or greater counts needs \n",
    "# to be found, the probability of counts lower than n need to be \n",
    "# subtracted from 1.\n",
    "Final_Prob = 1\n",
    "for n in range(int(counts[modesarr-1][0])):\n",
    "    Final_Prob = Final_Prob - PoiProb(mcounts,n)\n",
    "\n",
    "# This prints the probability of counts[modesarr-1] events or greater\n",
    "# being found.\n",
    "print('Probability of {0} counts or greater being found: {1}%'.format(counts[modesarr-1][0],np.around(100*Final_Prob,3)))"
   ]
  },
  {
   "cell_type": "code",
   "execution_count": null,
   "metadata": {},
   "outputs": [],
   "source": []
  }
 ],
 "metadata": {
  "kernelspec": {
   "display_name": "Python 3",
   "language": "python",
   "name": "python3"
  },
  "language_info": {
   "codemirror_mode": {
    "name": "ipython",
    "version": 3
   },
   "file_extension": ".py",
   "mimetype": "text/x-python",
   "name": "python",
   "nbconvert_exporter": "python",
   "pygments_lexer": "ipython3",
   "version": "3.6.6"
  }
 },
 "nbformat": 4,
 "nbformat_minor": 2
}
