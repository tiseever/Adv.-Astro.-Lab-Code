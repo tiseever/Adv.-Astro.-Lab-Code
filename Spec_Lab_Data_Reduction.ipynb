{
 "cells": [
  {
   "cell_type": "code",
   "execution_count": null,
   "metadata": {},
   "outputs": [],
   "source": [
    "from __future__ import division\n",
    "import glob\n",
    "import re\n",
    "from astropy.io import fits\n",
    "from astropy.io.fits import getheader\n",
    "from astropy.convolution import Gaussian1DKernel as GK, convolve as cv\n",
    "import numpy as np\n",
    "import matplotlib.pyplot as plt\n",
    "import astroscrappy\n",
    "from matplotlib.patches import Rectangle\n",
    "from scipy.special import i0,i1,k0,k1\n",
    "from scipy.stats import norm"
   ]
  },
  {
   "cell_type": "code",
   "execution_count": null,
   "metadata": {},
   "outputs": [],
   "source": [
    "# Create a list of all of the fits file directories\n",
    "biases = glob.glob('/Users/hitom/ASTR136_Code/dark matter data/BIAS/*.fits')\n",
    "arcs = glob.glob('/Users/hitom/ASTR136_Code/dark matter data/ARC/*.fits')\n",
    "flats = glob.glob('/Users/hitom/ASTR136_Code/dark matter data/FLAT/*.fits')\n",
    "IC4202 = glob.glob('/Users/hitom/ASTR136_Code/dark matter data/IC4202/*.fits')"
   ]
  },
  {
   "cell_type": "code",
   "execution_count": null,
   "metadata": {},
   "outputs": [],
   "source": [
    "tmp = (fits.open(i)[0].data for i in biases)\n",
    "obiases = list(tmp)\n",
    "tmp = (fits.open(i)[0].data for i in arcs)\n",
    "oarcs = list(tmp)\n",
    "tmp = (fits.open(i)[0].data for i in flats)\n",
    "oflats = list(tmp)\n",
    "tmp = (fits.open(i)[0].data for i in IC4202)\n",
    "oIC4202 = list(tmp)"
   ]
  },
  {
   "cell_type": "code",
   "execution_count": null,
   "metadata": {},
   "outputs": [],
   "source": [
    "ah = getheader(arcs[0])\n",
    "ah['EXPTIME']"
   ]
  },
  {
   "cell_type": "code",
   "execution_count": null,
   "metadata": {},
   "outputs": [],
   "source": [
    "fh = getheader(flats[0])\n",
    "ft = fh['EXPTIME']\n",
    "ft"
   ]
  },
  {
   "cell_type": "code",
   "execution_count": null,
   "metadata": {},
   "outputs": [],
   "source": [
    "# Master bias\n",
    "Mbias = sum(obiases)/len(obiases)\n",
    "# Master flat\n",
    "Mflat = sum(list((i-Mbias)/ft for i in oflats))/len(oflats)\n",
    "# Normalized master flat\n",
    "normMflat = Mflat/np.max(Mflat)\n",
    "for a in range(len(normMflat)):\n",
    "    for b in range(len(normMflat[a])):\n",
    "        if normMflat[a,b]==0:\n",
    "            normMflat[a,b]=1\n",
    "        else:\n",
    "            pass\n",
    "# Reduced arcs\n",
    "Marc = sum(list((i-Mbias)/(normMflat) for i in oarcs))"
   ]
  },
  {
   "cell_type": "code",
   "execution_count": null,
   "metadata": {},
   "outputs": [],
   "source": [
    "plt.figure(figsize=(14,14))\n",
    "plt.imshow(normMflat,vmin=0,vmax=np.max(normMflat))\n",
    "plt.colorbar();"
   ]
  },
  {
   "cell_type": "markdown",
   "metadata": {},
   "source": [
    "### Here the limits of the slit are found"
   ]
  },
  {
   "cell_type": "code",
   "execution_count": null,
   "metadata": {},
   "outputs": [],
   "source": [
    "ysums = np.zeros(len(Mflat))\n",
    "for i in range(len(Mflat)):\n",
    "    ysums[i] = np.sum(Mflat[i])\n",
    "xsums = np.zeros(len(Mflat[0]))\n",
    "for i in range(len(Mflat[0])):\n",
    "    xsums[i] = np.sum(Mflat[:,i])"
   ]
  },
  {
   "cell_type": "code",
   "execution_count": null,
   "metadata": {},
   "outputs": [],
   "source": [
    "plt.figure(figsize=(14,7))\n",
    "plt.plot(ysums)\n",
    "plt.xlabel('Pixel Number (Horizontal)',{'fontsize':'15'})\n",
    "plt.ylabel('Sum of CCD counts',{'fontsize':'15'})\n",
    "plt.savefig('FlatPixels.png')\n",
    "val = 2000\n",
    "for i in range(len(ysums)-1):\n",
    "    if ysums[i]-ysums[i-1]>val or ysums[i]-ysums[i+1]>val:\n",
    "        print(i)\n",
    ";"
   ]
  },
  {
   "cell_type": "code",
   "execution_count": null,
   "metadata": {
    "scrolled": false
   },
   "outputs": [],
   "source": [
    "plt.figure(figsize=(14,7))\n",
    "plt.plot(xsums)\n",
    "val = 4000\n",
    "for i in range(len(xsums)-1):\n",
    "    if xsums[i]-xsums[i-1]>val or xsums[i]-xsums[i+1]>val:\n",
    "        print(i)\n",
    ";"
   ]
  },
  {
   "cell_type": "code",
   "execution_count": null,
   "metadata": {},
   "outputs": [],
   "source": [
    "xl = 111\n",
    "xu = 403\n",
    "yl = 77\n",
    "yu = 2676"
   ]
  },
  {
   "cell_type": "code",
   "execution_count": null,
   "metadata": {},
   "outputs": [],
   "source": [
    "plt.figure(figsize=(14,14))\n",
    "plt.imshow(Mflat[yl:yu,xl:xu])\n",
    "plt.colorbar();"
   ]
  },
  {
   "cell_type": "code",
   "execution_count": null,
   "metadata": {},
   "outputs": [],
   "source": [
    "Rflat = np.transpose(Mflat[yl:yu,xl:xu])\n",
    "plt.figure(figsize=(14,14))\n",
    "plt.imshow(Rflat,origin='lower');"
   ]
  },
  {
   "cell_type": "code",
   "execution_count": null,
   "metadata": {},
   "outputs": [],
   "source": [
    "# Truncated Master arc\n",
    "TMarc = Marc[yl:yu,xl:xu]"
   ]
  },
  {
   "cell_type": "code",
   "execution_count": null,
   "metadata": {},
   "outputs": [],
   "source": [
    "# Finding the lines on the arc\n",
    "Avals = np.zeros(len(TMarc))\n",
    "for i in range(len(TMarc)):\n",
    "    Avals[i] = np.sum(TMarc[i])"
   ]
  },
  {
   "cell_type": "code",
   "execution_count": null,
   "metadata": {},
   "outputs": [],
   "source": [
    "plt.figure(figsize=(14,7))\n",
    "plt.plot(Avals)\n",
    "Indices = {}\n",
    "UAvals = {}\n",
    "n = 0\n",
    "for i in range(len(Avals)):\n",
    "    Threshold = 5*np.average(Avals)\n",
    "    if Avals[i]>Threshold and Avals[i]>Avals[i+1] and Avals[i]>Avals[i-1]:\n",
    "        Indices.update({n:i})\n",
    "        print('i={0}, Avals[i]={1}'.format(i,np.format_float_scientific(Avals[i],3)))\n",
    "        plt.plot(i,Avals[i],'ro')\n",
    "        mean,std = norm.fit(Avals[i-10:i+10])\n",
    "        lower = i-10\n",
    "        upper = i+10\n",
    "        for k in range(Avals[i-10:i+10].shape[0]):\n",
    "            if Avals[i-10+k-1]<mean-std and Avals[i-10+k]>mean-std:\n",
    "                lower = i-10+k\n",
    "            if Avals[i-10+k+1]<mean-std and Avals[i-10+k]>mean-std:\n",
    "                upper = i-10+k\n",
    "        UAvals.update({i:upper-lower})\n",
    "        n += 1\n",
    "plt.xlabel('Pixel Number',{'fontsize':'15'})\n",
    "plt.ylabel('Counts',{'fontsize':'15'})\n",
    "#plt.savefig('ArcComp.png',bbox='tight')\n",
    ";"
   ]
  },
  {
   "cell_type": "code",
   "execution_count": null,
   "metadata": {},
   "outputs": [],
   "source": [
    "rel = {116:5875.62,1918:7032.41,2256:7245.16,2142:7173.94,\\\n",
    "       1756:6929.41,1426:6717.04,1366:6678.28,1244:6598.95,1142:6532.88,1101:6506.53,\\\n",
    "       940:6402.25,910:6389.99,835:6334.4,789:6304.79,730:6266.5,654:6217.28,570:6163.59,\\\n",
    "       538:6143.06}"
   ]
  },
  {
   "cell_type": "code",
   "execution_count": null,
   "metadata": {},
   "outputs": [],
   "source": [
    "Srel = {}\n",
    "SUnc = {}\n",
    "i = sorted(rel)\n",
    "for n in range(len(rel)):\n",
    "    Srel[i[n]] = rel[i[n]]\n",
    "    SUnc[i[n]] = UAvals[i[n]]"
   ]
  },
  {
   "cell_type": "code",
   "execution_count": null,
   "metadata": {
    "scrolled": false
   },
   "outputs": [],
   "source": [
    "Pixels = [i for i in Srel]\n",
    "Values = [Srel[i] for i in Srel]\n",
    "Weights = [1/UAvals[i] for i in SUnc]\n",
    "Uncs = [UAvals[i] for i in SUnc]\n",
    "plt.figure(figsize=(14,7))\n",
    "plt.errorbar(Pixels,Values,xerr=Uncs,fmt='ro')\n",
    "plt.xlabel('Pixels',{'fontsize':'15'})\n",
    "plt.ylabel('Wavelength ('r'$\\AA$'')',{'fontsize':'15'})\n",
    "p,cov = np.polyfit(Pixels,Values,1,cov=True,w=Weights)\n",
    "m = p[0]\n",
    "mu = cov[0][0]\n",
    "b = p[1]\n",
    "bu = cov[1][1]\n",
    "x = np.arange(0,max(Pixels),1)\n",
    "plt.plot(m*x + b)\n",
    "plt.text(100,6750,'y=({0}'r'$\\pm$''{1})x+({2}'r'$\\pm$''{3})'.format(np.round(m,decimals=3)\\\n",
    "                                                                   ,np.format_float_scientific(mu,3)\\\n",
    "                                                                   ,np.round(b,decimals=3)\\\n",
    "                                                                   ,np.round(bu,decimals=3))\\\n",
    "         ,{'fontsize':'12'})\n",
    "plt.savefig('PtW.png',bbox='tight');"
   ]
  },
  {
   "cell_type": "code",
   "execution_count": null,
   "metadata": {},
   "outputs": [],
   "source": [
    "print(m*940+b,m*1918+b,6402.25,7032.41)"
   ]
  },
  {
   "cell_type": "markdown",
   "metadata": {},
   "source": [
    "### Now the science frames are reduced and used."
   ]
  },
  {
   "cell_type": "code",
   "execution_count": null,
   "metadata": {},
   "outputs": [],
   "source": [
    "SIC = list((i-Mbias)/normMflat for i in oIC4202)\n",
    "TIC = [SIC[0][yl:yu,xl:xu],SIC[1][yl:yu,xl:xu]]\n",
    "ICA = np.empty(TIC[0].shape)\n",
    "val = 2\n",
    "scale = 2\n",
    "for i in range(int(len(TIC[0])/val)):\n",
    "    for j in range(int(len(TIC[0][0])/val)):\n",
    "        if np.sum(TIC[0][val*i:val*(i+1),val*j:val*(j+1)])>scale*np.sum(TIC[1][val*i:val*(i+1),val*j:val*(j+1)]):\n",
    "            ICA[val*i:val*(i+1),val*j:val*(j+1)] = TIC[1][val*i:val*(i+1),val*j:val*(j+1)]\n",
    "        elif np.sum(TIC[1][val*i:val*(i+1),val*j:val*(j+1)])>scale*np.sum(TIC[0][val*i:val*(i+1),val*j:val*(j+1)]):\n",
    "            ICA[val*i:val*(i+1),val*j:val*(j+1)] = TIC[0][val*i:val*(i+1),val*j:val*(j+1)]\n",
    "        else:\n",
    "            ICA[val*i:val*(i+1),val*j:val*(j+1)] = TIC[1][val*i:val*(i+1),val*j:val*(j+1)]\n",
    "RICA = np.transpose(ICA)"
   ]
  },
  {
   "cell_type": "code",
   "execution_count": null,
   "metadata": {},
   "outputs": [],
   "source": [
    "plt.figure(figsize=(14,14))\n",
    "plt.imshow(RICA,vmin=0,vmax=np.max(RICA)/5,origin='lower',cmap='gray');"
   ]
  },
  {
   "cell_type": "code",
   "execution_count": null,
   "metadata": {},
   "outputs": [],
   "source": [
    "_,ICclean = astroscrappy.detect_cosmics(RICA,inmask=None,cleantype='median')"
   ]
  },
  {
   "cell_type": "code",
   "execution_count": null,
   "metadata": {},
   "outputs": [],
   "source": [
    "fig, ax = plt.subplots(figsize=(14,14))\n",
    "ax.imshow(ICclean,vmin=0,vmax=np.max(ICclean)/4,origin='lower',cmap='gray')\n",
    "ax.set_autoscale_on(False)\n",
    "color = (0.8,0.3,0.8)\n",
    "color2 = (0.3,0.8,0.8)\n",
    "r1=Rectangle((0,0),ICclean.shape[1],30,edgecolor=color,facecolor=color,alpha=0.5)\n",
    "ax.add_patch(r1)\n",
    "r2=Rectangle((0,250),ICclean.shape[1],ICclean.shape[0]-250,edgecolor=color,facecolor=color,alpha=0.5)\n",
    "ax.add_patch(r2)\n",
    "r3=Rectangle((1300,0),100,ICclean.shape[0],edgecolor=color2,facecolor=color2,alpha=0.5)\n",
    "ax.add_patch(r3)\n",
    "plt.xlabel('Horizontal Pixel #',{'fontsize':'15'})\n",
    "plt.ylabel('Vertical Pixel #',{'fontsize':'15'})\n",
    "fig.savefig('OverlayedIC.png',bbox='tight');"
   ]
  },
  {
   "cell_type": "code",
   "execution_count": null,
   "metadata": {},
   "outputs": [],
   "source": [
    "try:\n",
    "    hdu = fits.PrimaryHDU(ICclean)\n",
    "    hdul = fits.HDUList([hdu])\n",
    "    hdul.writeto('ReducedIC4202.fits')\n",
    "except:\n",
    "    pass"
   ]
  },
  {
   "cell_type": "markdown",
   "metadata": {},
   "source": [
    "### Take sky from top and bottom of image"
   ]
  },
  {
   "cell_type": "code",
   "execution_count": null,
   "metadata": {},
   "outputs": [],
   "source": [
    "bkg1 = ICclean[250:ICclean.shape[0]]\n",
    "bkg2 = ICclean[0:30]\n",
    "sky1 = [np.mean(i) for i in np.transpose(bkg1)]\n",
    "sky2 = [np.mean(i) for i in np.transpose(bkg2)]\n",
    "poly = [np.polyfit(((250+ICclean.shape[0])/2,15),(sky1[i],sky2[i]),1) for i in range(len(sky1))]\n",
    "x = np.arange(ICclean.shape[0])\n",
    "FICsky = [poly[i][0]*x+poly[i][1] for i in range(len(poly))]\n",
    "Sky_IC = np.transpose([i for i in FICsky])"
   ]
  },
  {
   "cell_type": "code",
   "execution_count": null,
   "metadata": {},
   "outputs": [],
   "source": [
    "plt.figure(figsize=(14,14))\n",
    "plt.imshow(Sky_IC,cmap='gray',vmin=0,vmax=np.max(Sky_IC)/5);"
   ]
  },
  {
   "cell_type": "code",
   "execution_count": null,
   "metadata": {},
   "outputs": [],
   "source": [
    "ICns = ICclean-Sky_IC\n",
    "plt.figure(figsize=(14,14))\n",
    "plt.imshow(ICns,cmap='gray',vmin=0,vmax=np.max(ICns)/5)\n",
    "plt.xlabel('Horizontal Pixel #')\n",
    "plt.ylabel('Vertical Pixel #');"
   ]
  },
  {
   "cell_type": "code",
   "execution_count": null,
   "metadata": {},
   "outputs": [],
   "source": [
    "Noise_Reg = ICns[:,1300:1400]\n",
    "noisered = [np.median(i) for i in Noise_Reg]\n",
    "CICns = [ICns[i]-noisered[i] for i in range(len(noisered))]\n",
    "fig, ax = plt.subplots(figsize=(14,14))\n",
    "ax.imshow(CICns,cmap='gray',vmin=0,vmax=np.max(CICns)/5,origin='lower')\n",
    "plt.xlabel('Horizontal Pixel #',{'fontsize':'15'})\n",
    "plt.ylabel('Vertical Pixel #',{'fontsize':'15'})\n",
    "plt.arrow(1385,75,25,40,color='red',head_width=20)\n",
    "plt.text(1325,70,'H'r'$\\alpha$',{'fontsize':'14'},color='red')\n",
    "plt.arrow(1515,75,-25,40,color='blue',head_width=20)\n",
    "plt.text(1515,70,'N[II]',{'fontsize':'14'},color='blue')\n",
    "plt.savefig('FinCle.png',bbox='tight');"
   ]
  },
  {
   "cell_type": "code",
   "execution_count": null,
   "metadata": {},
   "outputs": [],
   "source": []
  },
  {
   "cell_type": "code",
   "execution_count": null,
   "metadata": {},
   "outputs": [],
   "source": []
  },
  {
   "cell_type": "code",
   "execution_count": null,
   "metadata": {},
   "outputs": [],
   "source": []
  },
  {
   "cell_type": "code",
   "execution_count": null,
   "metadata": {},
   "outputs": [],
   "source": [
    "Rd = 4.8\n",
    "Ms = 1.8e11\n",
    "Eo = Ms/(2*np.pi*(Rd**2))\n",
    "G = 4.102e-6"
   ]
  },
  {
   "cell_type": "code",
   "execution_count": null,
   "metadata": {},
   "outputs": [],
   "source": [
    "def ICrotcurve(R):\n",
    "    y = R/(2*Rd)\n",
    "    V = y*np.sqrt(4*np.pi*G*Eo*Rd*(i0(y)*k0(y)-i1(y)*k1(y)))\n",
    "    return V"
   ]
  },
  {
   "cell_type": "code",
   "execution_count": null,
   "metadata": {},
   "outputs": [],
   "source": [
    "x = np.arange(0.1,100.4,step=0.1)\n",
    "y = [ICrotcurve(i) for i in x]\n",
    "plt.figure(figsize=(14,7))\n",
    "plt.plot(x,y)\n",
    "plt.xlabel('Distance from center (kpc)',{'fontsize':'15'})\n",
    "plt.ylabel('Rotational velocity (km/s)',{'fontsize':'15'})\n",
    "plt.savefig('ExpectedVel.png',bbox_inches='tight');"
   ]
  },
  {
   "cell_type": "code",
   "execution_count": null,
   "metadata": {},
   "outputs": [],
   "source": [
    "lower_lim = 1415\n",
    "upper_lim = 1445\n",
    "Zoomed = np.array(CICns)[:,lower_lim:upper_lim]\n",
    "Larger_Zoomed = np.array(CICns)[:,1300:1400]\n",
    "Full_Zoomed = np.array(CICns)[:,1300:1500]\n",
    "fig,ax = plt.subplots(figsize=(7,7))\n",
    "ax.imshow(Zoomed,cmap='gray',vmin=0,vmax=np.max(Full_Zoomed)/4,origin='lower')\n",
    "plt.xlabel('Horizontal Pixel #',{'fontsize':'15'})\n",
    "plt.ylabel('Vertical Pixel #',{'fontsize':'15'})\n",
    "plt.savefig('CenReg.png',bbox='tight');"
   ]
  },
  {
   "cell_type": "code",
   "execution_count": null,
   "metadata": {},
   "outputs": [],
   "source": [
    "points = np.zeros((Zoomed.shape[0],2))\n",
    "points[:,0] = [np.max(i) for i in Zoomed]\n",
    "for i in range(Zoomed.shape[0]):\n",
    "    for k in range(Zoomed.shape[1]):\n",
    "        if Zoomed[i,k]==np.max(Zoomed[i]):\n",
    "            points[i,1] = k"
   ]
  },
  {
   "cell_type": "markdown",
   "metadata": {},
   "source": [
    "### Note: Using 1 standard deviation as range uncertainties. Also assume noise is a gaussian distribution and use variance to find error using the median of the rows."
   ]
  },
  {
   "cell_type": "code",
   "execution_count": null,
   "metadata": {},
   "outputs": [],
   "source": [
    "binning = 5\n",
    "# Defining arrays\n",
    "means = np.zeros(int(points[:,0].shape[0]/binning))\n",
    "fmeans = np.zeros(int(points[:,0].shape[0]/binning))\n",
    "stds = np.zeros(int(points[:,0].shape[0]/binning))\n",
    "xvals = np.zeros(int(points[:,0].shape[0]/binning))\n",
    "yvals = np.zeros(int(points[:,0].shape[0]/binning))\n",
    "vncs = np.zeros(int(points[:,0].shape[0]/binning))\n",
    "ranges = np.zeros((int(points[:,0].shape[0]/binning),2))\n",
    "variances = np.zeros(int(points[:,0].shape[0]/binning))\n",
    "nmeans = np.zeros(int(points[:,0].shape[0]/binning))\n",
    "uncweights = np.zeros(int(points[:,0].shape[0]/binning))\n",
    "# This is the interval for which the data is in one standard deviation\n",
    "rge = norm.interval(0.6745)\n",
    "# This defines the box and gaussian properties of the binning box\n",
    "for i in range(int(points[:,0].shape[0]/binning)):\n",
    "    yrge = np.arange(points[:,0].shape[0])[binning*i:binning*(i+1)]\n",
    "    xcen = np.mean(points[binning*i:binning*(i+1),1])\n",
    "    ycen = i*5/2\n",
    "    xrge = np.arange(Zoomed.shape[0])[int(xcen-5):int(xcen+5)]\n",
    "    try:\n",
    "        temp = [l for l in Zoomed[int(np.min(yrge)):int(np.max(yrge)),int(np.min(xrge)):int(np.max(xrge))]]\n",
    "    except:\n",
    "        continue\n",
    "    vls = np.zeros((len(temp),len(temp[0])))\n",
    "    for k in range(len(temp)):\n",
    "        vls[k,0:len(temp[0])] = temp[k][0:len(temp[0])]\n",
    "    comp = [np.mean(vls[:,l]) for l in range(len(vls[0]))]\n",
    "    mean,std = norm.fit(comp)\n",
    "    means[i] = mean\n",
    "    stds[i] = std\n",
    "    xvals[i] = xcen\n",
    "    yvals[i] = ycen\n",
    "    # Take the mean and median of the Zoomed for uncertainty weighing later since areas with\n",
    "    # a mean near the median will not have a significantly bright area due to the size of the\n",
    "    # box\n",
    "    uncweights[i] = np.var(Zoomed[binning*i:binning*(i+1)])\n",
    "    # Use the clear region next to the center to find noise profiles\n",
    "    nmeans[i] = np.mean(Larger_Zoomed[binning*i:binning*(i+1)])\n",
    "    variances[i] = np.var([k-nmeans[i] for k in Larger_Zoomed[binning*i:binning*(i+1)]])\n",
    "# This calculates x ranges and uncertainty\n",
    "# Since uncertainty due to noise increases as you get closer, noise uncertainty is a correlated \n",
    "# factor in the gaussian uncertainty\n",
    "uncs = [np.sqrt((variances[i]+stds[i]**2))*variances[i]/uncweights[i] for i in range(len(variances))]\n",
    "Uyvals = 2.5 # Due to binning"
   ]
  },
  {
   "cell_type": "code",
   "execution_count": null,
   "metadata": {},
   "outputs": [],
   "source": [
    "low_cut = 11\n",
    "high_cut = 40\n",
    "xs = xvals[low_cut:high_cut]\n",
    "ys = yvals[low_cut:high_cut]\n",
    "ha = m*(np.mean(xs)+lower_lim)+b\n",
    "uha = (np.max(xs)-np.min(xs))/(2*np.sqrt(len(xs)))\n",
    "print(ha,uha)\n",
    "y = [m*i+ha-(Zoomed.shape[1]/2)*m for i in xs]\n",
    "yrg = np.zeros(len([i for i, val in enumerate([k>ha for k in y]) if val]))\n",
    "yunc = np.zeros(yrg.shape[0])\n",
    "vvals = np.zeros(yrg.shape[0])\n",
    "pa = np.zeros((yrg.shape[0],2))\n",
    "cit = 0\n",
    "for i in range(len(y)):\n",
    "    if y[i]>ha:\n",
    "        yrg[cit] = y[i]\n",
    "        vvals[cit] = ys[i]\n",
    "        yunc[cit] = m*uncs[low_cut:high_cut][i]\n",
    "        pa[cit,0] = points[low_cut:high_cut,0][i]\n",
    "        pa[cit,1] = points[low_cut:high_cut,1][i]\n",
    "        cit += 1\n",
    "plt.figure(figsize=(14,7))\n",
    "plt.errorbar(yrg,pa[:,0],xerr=yunc,fmt='ro')\n",
    "plt.xlabel('Wavelength ('r'$\\AA$'')',{'fontsize':'15'})\n",
    "plt.ylabel('Counts',{'fontsize':'15'})\n",
    "plt.savefig('Binning.png',bbox='tight');"
   ]
  },
  {
   "cell_type": "code",
   "execution_count": null,
   "metadata": {},
   "outputs": [],
   "source": [
    "D = 100400\n",
    "rpp = 0.43*np.pi/(180*3600)\n",
    "kpp = D*np.tan(rpp)\n",
    "maxrad = rpp*len(CICns[0])/2\n",
    "Radius = [kpp*(i-np.median(yvals)) for i in yvals]"
   ]
  },
  {
   "cell_type": "code",
   "execution_count": null,
   "metadata": {},
   "outputs": [],
   "source": [
    "muncs = [m*i for i in uncs]\n",
    "plt.figure(figsize=(2,7))\n",
    "plt.errorbar(m*(xvals-np.median(xvals)),Radius,xerr=muncs,fmt='ro')\n",
    "plt.xlabel('Angstroms from Center',{'fontsize':'15'})\n",
    "plt.ylabel('Radius (kpc)',{'fontsize':'15'})\n",
    "plt.savefig('Points.png',bbox_inches='tight');"
   ]
  },
  {
   "cell_type": "code",
   "execution_count": null,
   "metadata": {},
   "outputs": [],
   "source": [
    "l = 11\n",
    "u = 40\n",
    "plt.figure(figsize=(2,7))\n",
    "plt.errorbar(m*(xvals[l:u]-np.mean(xvals)),Radius[l:u],xerr=muncs[l:u],fmt='ro')\n",
    "plt.xlabel('Angstroms from Center',{'fontsize':'15'})\n",
    "plt.ylabel('Radius (kpc)',{'fontsize':'15'});"
   ]
  },
  {
   "cell_type": "code",
   "execution_count": null,
   "metadata": {},
   "outputs": [],
   "source": [
    "c = 2.998e5\n",
    "har = 6562.8\n",
    "R = kpp*2599/2\n",
    "zi = 0.0238\n",
    "uzi = uha/har\n",
    "vsys = c*zi\n",
    "uvsys = c*uzi\n",
    "distances = [-kpp*(i-np.median(yvals)) for i in vvals]\n",
    "Udistances = np.full(len(Radius),kpp*Uyvals)\n",
    "vint = [(i-har)*c/har for i in yrg]\n",
    "Uvint = [i*c/har for i in yunc]\n",
    "ri = np.pi/2\n",
    "vrot = [(vint[i]-vsys) for i in range(len(vint))]\n",
    "Uvrot = Uvint\n",
    "a = np.arange(0.1,100.4,step=0.1)\n",
    "e = [ICrotcurve(i) for i in x]\n",
    "plt.figure(figsize=(14,7))\n",
    "plt.errorbar(distances,vrot,yerr=Uvrot,fmt='ro',label='Calculated 'r'$v_{rot}$')\n",
    "plt.plot(a,e,label='Modeled 'r'$v_{rot}$')\n",
    "plt.xlabel('Distance from center (kpc)',{'fontsize':'15'})\n",
    "plt.ylabel('Rotational velocity (km/s)',{'fontsize':'15'})\n",
    "plt.xlim(-0.5,np.max(distances)+1)\n",
    "plt.legend(loc=4)\n",
    "plt.savefig('RotVel.png',bbox_inches='tight');"
   ]
  },
  {
   "cell_type": "code",
   "execution_count": null,
   "metadata": {},
   "outputs": [],
   "source": [
    "chisq = np.sum([((vrot[i]-ICrotcurve(distances[i]))**2)/((Uvrot[i]**2)*len(vrot)) for i in range(len(vrot))])\n",
    "print(chisq)"
   ]
  },
  {
   "cell_type": "code",
   "execution_count": null,
   "metadata": {},
   "outputs": [],
   "source": [
    "VelWeights = [i for i in pa[:,0]]\n",
    "Mults = [VelWeights[i]*vrot[i] for i in range(len(vrot))]\n",
    "FinRotVel = np.sum(Mults)/np.sum(VelWeights)\n",
    "UncVels = [1/(i**2) for i in Uvrot]\n",
    "FRVunc = 1/np.sqrt(np.sum([VelWeights[i]*UncVels[i] for i in range(len(UncVels))])/np.sum(VelWeights))\n",
    "print(FinRotVel,FRVunc)"
   ]
  },
  {
   "cell_type": "code",
   "execution_count": null,
   "metadata": {},
   "outputs": [],
   "source": []
  },
  {
   "cell_type": "code",
   "execution_count": null,
   "metadata": {},
   "outputs": [],
   "source": [
    "low_cut = 11\n",
    "high_cut = 45\n",
    "xs = xvals[low_cut:high_cut]\n",
    "ys = yvals[low_cut:high_cut]\n",
    "ha = m*(np.mean(xs)+lower_lim)+b\n",
    "uha = (np.max(xs)-np.min(xs))/(2*np.sqrt(len(xs)))\n",
    "print(ha,uha)\n",
    "y2 = [m*i+ha-(Zoomed.shape[1]/2)*m for i in xs]\n",
    "yrg2 = np.zeros(len([i for i, val in enumerate([k<ha for k in y2]) if val]))\n",
    "yunc2 = np.zeros(yrg2.shape[0])\n",
    "vvals2 = np.zeros(yrg2.shape[0])\n",
    "pa2 = np.zeros((yrg2.shape[0],2))\n",
    "cit = 0\n",
    "for i in range(len(y2)):\n",
    "    if y2[i]<ha:\n",
    "        yrg2[cit] = y2[i]\n",
    "        vvals2[cit] = ys[i]\n",
    "        yunc2[cit] = m*uncs[low_cut:high_cut][i]\n",
    "        pa2[cit,0] = points[low_cut:high_cut,0][i]\n",
    "        pa2[cit,1] = points[low_cut:high_cut,1][i]\n",
    "        cit += 1\n",
    "plt.figure(figsize=(14,7))\n",
    "plt.errorbar(yrg2,pa2[:,0],xerr=yunc2,fmt='ro')\n",
    "plt.xlabel('Wavelength ('r'$\\AA$'')',{'fontsize':'15'})\n",
    "plt.ylabel('Counts',{'fontsize':'15'});"
   ]
  },
  {
   "cell_type": "code",
   "execution_count": null,
   "metadata": {},
   "outputs": [],
   "source": [
    "distances2 = [kpp*(i-np.median(yvals)) for i in vvals2]\n",
    "Udistances2 = np.full(len(Radius),kpp*Uyvals)\n",
    "vint2 = [(i-har)*c/har for i in yrg2]\n",
    "Uvint2 = [i*c/har for i in yunc2]\n",
    "ri = np.pi/2\n",
    "vrot2 = [-(vint2[i]-vsys) for i in range(len(vint2))]\n",
    "Uvrot2 = Uvint2\n",
    "a = np.arange(0.1,100.4,step=0.1)\n",
    "e = [ICrotcurve(i) for i in x]\n",
    "plt.figure(figsize=(14,7))\n",
    "print(len(distances2),len(vrot2),len(Uvrot2))\n",
    "plt.errorbar(distances2,vrot2,yerr=Uvrot2,fmt='ro')\n",
    "plt.plot(a,e)\n",
    "plt.xlabel('Distance from center (kpc)',{'fontsize':'15'})\n",
    "plt.ylabel('Rotational velocity (km/s)',{'fontsize':'15'})\n",
    "plt.xlim(-0.1,np.max(distances)+0.5);"
   ]
  },
  {
   "cell_type": "code",
   "execution_count": null,
   "metadata": {},
   "outputs": [],
   "source": [
    "chisq = np.sum([((vrot2[i]-ICrotcurve(distances2[i]))**2)/((Uvrot2[i]**2)*len(vrot2)) for i in range(len(vrot2))])\n",
    "print(chisq)"
   ]
  },
  {
   "cell_type": "code",
   "execution_count": null,
   "metadata": {},
   "outputs": [],
   "source": [
    "VelWeights2 = [i for i in pa[:,0]]\n",
    "Mults2 = [VelWeights2[i]*vrot2[i] for i in range(len(vrot2))]\n",
    "FinRotVel2 = np.sum(Mults2)/np.sum(VelWeights2)\n",
    "UncVels2 = [1/(i**2) for i in Uvrot2]\n",
    "FRVunc2 = 1/np.sqrt(np.sum([VelWeights2[i]*UncVels2[i] for i in range(len(UncVels2))])/np.sum(VelWeights2))\n",
    "print(FinRotVel2,FRVunc2)"
   ]
  },
  {
   "cell_type": "code",
   "execution_count": null,
   "metadata": {},
   "outputs": [],
   "source": []
  },
  {
   "cell_type": "code",
   "execution_count": null,
   "metadata": {},
   "outputs": [],
   "source": [
    "def DC(R,genvrot,Rc):\n",
    "    p = (genvrot**2)/(4*np.pi*G*(Rc**2)*(1+(R/Rc)**2))\n",
    "    return p"
   ]
  },
  {
   "cell_type": "code",
   "execution_count": null,
   "metadata": {},
   "outputs": [],
   "source": [
    "vsim = 7123.1-7038\n",
    "dummy = np.arange(0.1,100.1,step=0.1)\n",
    "ODMM = [DC(distances[i],vrot[i],Rd) for i in range(len(vrot))]\n",
    "UODMM = [2*Uvrot[i]*DC(distances[i],vrot[i],Rd)/vrot[i] for i in range(len(vrot))]\n",
    "DMM3 = [DC(i,ICrotcurve(i),Rd) for i in dummy]"
   ]
  },
  {
   "cell_type": "code",
   "execution_count": null,
   "metadata": {},
   "outputs": [],
   "source": [
    "plt.figure(figsize=(14,7))\n",
    "plt.plot(dummy,DMM3,label='Expected Dark Matter Content')\n",
    "plt.errorbar(distances,ODMM,yerr=UODMM,fmt='ro',label='Calculated Dark Matter Content')\n",
    "plt.xlabel('Radius(kpc)',{'fontsize':'15'})\n",
    "plt.ylabel(r'$\\rho_c(R)$'' ('r'$\\frac{M_{\\odot}}{{kpc}^3}$'')',{'fontsize':'15'})\n",
    "plt.xlim(-0.5,np.max(distances)+1)\n",
    "plt.legend()\n",
    "plt.savefig('DMM.png',bbox_inches='tight');"
   ]
  },
  {
   "cell_type": "code",
   "execution_count": null,
   "metadata": {},
   "outputs": [],
   "source": [
    "chisq = np.sum([((ODMM[i]-DC(distances[i],ICrotcurve(distances[i]),Rd))**2)/((UODMM[i]**2)*(len(ODMM))) for i in range(len(ODMM))])\n",
    "print(chisq)"
   ]
  },
  {
   "cell_type": "code",
   "execution_count": null,
   "metadata": {},
   "outputs": [],
   "source": []
  }
 ],
 "metadata": {
  "kernelspec": {
   "display_name": "Python 3",
   "language": "python",
   "name": "python3"
  },
  "language_info": {
   "codemirror_mode": {
    "name": "ipython",
    "version": 3
   },
   "file_extension": ".py",
   "mimetype": "text/x-python",
   "name": "python",
   "nbconvert_exporter": "python",
   "pygments_lexer": "ipython3",
   "version": "3.6.6"
  }
 },
 "nbformat": 4,
 "nbformat_minor": 2
}
